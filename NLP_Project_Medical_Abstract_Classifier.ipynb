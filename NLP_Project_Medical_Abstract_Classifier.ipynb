{
  "cells": [
    {
      "cell_type": "markdown",
      "metadata": {
        "id": "view-in-github",
        "colab_type": "text"
      },
      "source": [
        "<a href=\"https://colab.research.google.com/github/Gaurav-phatkare/Medical-Abstract-Classifier-Deep-Learning-Approach/blob/main/NLP_Project_Medical_Abstract_Classifier.ipynb\" target=\"_parent\"><img src=\"https://colab.research.google.com/assets/colab-badge.svg\" alt=\"Open In Colab\"/></a>"
      ]
    },
    {
      "cell_type": "markdown",
      "metadata": {
        "id": "qiyGpPZzsfxe"
      },
      "source": [
        "#Project On NLP\n",
        "(On Basis of Fundamental Knowledge of NLP)\n",
        "\n",
        "Many to one Problem because of multiple words input and label them with one output"
      ]
    },
    {
      "cell_type": "markdown",
      "metadata": {
        "id": "Ry3pnKSNuG7V"
      },
      "source": [
        "Skimlit will take Abstract as an input and break it to the four sections namely Background, Methods, Results , Conclusion"
      ]
    },
    {
      "cell_type": "markdown",
      "metadata": {
        "id": "Mab55fH7pF0h"
      },
      "source": [
        "Bi-LSTM model(According to the paper) will be use while building model\n",
        "\n",
        "And the paper available at [this Link](https://arxiv.org/abs/1710.06071)"
      ]
    },
    {
      "cell_type": "markdown",
      "metadata": {
        "id": "EVPzVGnYsqeI"
      },
      "source": [
        "```\n",
        "Input = Long Paragraph (Abstract)\n",
        "Output = Background , Objectives , Methods , Results , Conclusion\n",
        "```\n",
        "Output should be like  **[0.01, 0.85, 0.20, 0.01,0.001]**  where metrix contains Five sections where **0.85** predicts Ojectives"
      ]
    },
    {
      "cell_type": "code",
      "execution_count": 1,
      "metadata": {
        "colab": {
          "base_uri": "https://localhost:8080/"
        },
        "id": "C7GBQpCkw8HW",
        "outputId": "b7e720da-49c2-4be9-f4a1-1b0b46ac57e2"
      },
      "outputs": [
        {
          "output_type": "stream",
          "name": "stdout",
          "text": [
            "Thu Jul 13 11:26:04 2023       \n",
            "+-----------------------------------------------------------------------------+\n",
            "| NVIDIA-SMI 525.105.17   Driver Version: 525.105.17   CUDA Version: 12.0     |\n",
            "|-------------------------------+----------------------+----------------------+\n",
            "| GPU  Name        Persistence-M| Bus-Id        Disp.A | Volatile Uncorr. ECC |\n",
            "| Fan  Temp  Perf  Pwr:Usage/Cap|         Memory-Usage | GPU-Util  Compute M. |\n",
            "|                               |                      |               MIG M. |\n",
            "|===============================+======================+======================|\n",
            "|   0  Tesla T4            Off  | 00000000:00:04.0 Off |                    0 |\n",
            "| N/A   61C    P8    11W /  70W |      0MiB / 15360MiB |      0%      Default |\n",
            "|                               |                      |                  N/A |\n",
            "+-------------------------------+----------------------+----------------------+\n",
            "                                                                               \n",
            "+-----------------------------------------------------------------------------+\n",
            "| Processes:                                                                  |\n",
            "|  GPU   GI   CI        PID   Type   Process name                  GPU Memory |\n",
            "|        ID   ID                                                   Usage      |\n",
            "|=============================================================================|\n",
            "|  No running processes found                                                 |\n",
            "+-----------------------------------------------------------------------------+\n"
          ]
        }
      ],
      "source": [
        "# change Runtime to GPU for faster performance and then run following command to check GPU type\n",
        "\n",
        "!nvidia-smi"
      ]
    },
    {
      "cell_type": "markdown",
      "metadata": {
        "id": "DB-348nD9TRq"
      },
      "source": [
        "##Get Data\n",
        "we took Dataset from [Dataset Git Link](https://github.com/Franck-Dernoncourt/pubmed-rct)"
      ]
    },
    {
      "cell_type": "code",
      "execution_count": 2,
      "metadata": {
        "colab": {
          "base_uri": "https://localhost:8080/"
        },
        "id": "jZr1pdpb-lsx",
        "outputId": "2998d98a-dfcb-4ff5-f676-f3603ec399d7"
      },
      "outputs": [
        {
          "output_type": "stream",
          "name": "stdout",
          "text": [
            "Cloning into 'pubmed-rct'...\n",
            "remote: Enumerating objects: 33, done.\u001b[K\n",
            "remote: Counting objects: 100% (8/8), done.\u001b[K\n",
            "remote: Compressing objects: 100% (3/3), done.\u001b[K\n",
            "remote: Total 33 (delta 5), reused 5 (delta 5), pack-reused 25\u001b[K\n",
            "Unpacking objects: 100% (33/33), 177.08 MiB | 6.60 MiB/s, done.\n",
            "Updating files: 100% (13/13), done.\n",
            "PubMed_200k_RCT\n",
            "PubMed_200k_RCT_numbers_replaced_with_at_sign\n",
            "PubMed_20k_RCT\n",
            "PubMed_20k_RCT_numbers_replaced_with_at_sign\n",
            "README.md\n"
          ]
        }
      ],
      "source": [
        "!git clone https://github.com/Franck-Dernoncourt/pubmed-rct\n",
        "!ls pubmed-rct"
      ]
    },
    {
      "cell_type": "code",
      "execution_count": 3,
      "metadata": {
        "colab": {
          "base_uri": "https://localhost:8080/"
        },
        "id": "MnyZkVuw_F0j",
        "outputId": "32f733fa-4ff8-4133-8e47-a8b061843fff"
      },
      "outputs": [
        {
          "output_type": "stream",
          "name": "stdout",
          "text": [
            "dev.txt  test.txt  train.txt\n"
          ]
        }
      ],
      "source": [
        "#check files present in dataset folder\n",
        "!ls pubmed-rct/PubMed_20k_RCT_numbers_replaced_with_at_sign/"
      ]
    },
    {
      "cell_type": "code",
      "execution_count": 4,
      "metadata": {
        "id": "GV3Q9xol_u1x"
      },
      "outputs": [],
      "source": [
        "# We are going to use dataset with 20k RCT where numbers are replace with at@ sign\n",
        "data_dir = '/content/pubmed-rct/PubMed_20k_RCT_numbers_replaced_with_at_sign/'"
      ]
    },
    {
      "cell_type": "code",
      "execution_count": 5,
      "metadata": {
        "colab": {
          "base_uri": "https://localhost:8080/"
        },
        "id": "RIB91Sz5BGnm",
        "outputId": "42fe7982-a02a-4012-8116-0726aac74432"
      },
      "outputs": [
        {
          "output_type": "execute_result",
          "data": {
            "text/plain": [
              "['/content/pubmed-rct/PubMed_20k_RCT_numbers_replaced_with_at_sign/dev.txt',\n",
              " '/content/pubmed-rct/PubMed_20k_RCT_numbers_replaced_with_at_sign/test.txt',\n",
              " '/content/pubmed-rct/PubMed_20k_RCT_numbers_replaced_with_at_sign/train.txt']"
            ]
          },
          "metadata": {},
          "execution_count": 5
        }
      ],
      "source": [
        "import os\n",
        "filenames = [data_dir + filename for filename in os.listdir(data_dir)]\n",
        "filenames"
      ]
    },
    {
      "cell_type": "markdown",
      "metadata": {
        "id": "zBk5nPlWacfJ"
      },
      "source": [
        "##Preprocess data\n",
        "Visualize it"
      ]
    },
    {
      "cell_type": "code",
      "execution_count": 6,
      "metadata": {
        "id": "JfScLK3Ja3rE"
      },
      "outputs": [],
      "source": [
        "# function to read the lines of a document\n",
        "def get_lines(filename):\n",
        "  \"\"\"\n",
        "  Reads filename and returns the lines of text as a list\n",
        "  \"\"\"\n",
        "  with open(filename, \"r\") as f:\n",
        "    return f.readlines()"
      ]
    },
    {
      "cell_type": "code",
      "execution_count": 7,
      "metadata": {
        "id": "BCA4IgEudQGN"
      },
      "outputs": [],
      "source": [
        "train_lines = get_lines(data_dir + \"train.txt\")"
      ]
    },
    {
      "cell_type": "code",
      "execution_count": 8,
      "metadata": {
        "colab": {
          "base_uri": "https://localhost:8080/"
        },
        "id": "rrbjFyfadc6u",
        "outputId": "b0b5cf97-7834-4fec-e86c-73a52ea934a2"
      },
      "outputs": [
        {
          "output_type": "execute_result",
          "data": {
            "text/plain": [
              "['###24293578\\n',\n",
              " 'OBJECTIVE\\tTo investigate the efficacy of @ weeks of daily low-dose oral prednisolone in improving pain , mobility , and systemic low-grade inflammation in the short term and whether the effect would be sustained at @ weeks in older adults with moderate to severe knee osteoarthritis ( OA ) .\\n',\n",
              " 'METHODS\\tA total of @ patients with primary knee OA were randomized @:@ ; @ received @ mg/day of prednisolone and @ received placebo for @ weeks .\\n',\n",
              " 'METHODS\\tOutcome measures included pain reduction and improvement in function scores and systemic inflammation markers .\\n',\n",
              " 'METHODS\\tPain was assessed using the visual analog pain scale ( @-@ mm ) .\\n',\n",
              " 'METHODS\\tSecondary outcome measures included the Western Ontario and McMaster Universities Osteoarthritis Index scores , patient global assessment ( PGA ) of the severity of knee OA , and @-min walk distance ( @MWD ) .\\n',\n",
              " 'METHODS\\tSerum levels of interleukin @ ( IL-@ ) , IL-@ , tumor necrosis factor ( TNF ) - , and high-sensitivity C-reactive protein ( hsCRP ) were measured .\\n',\n",
              " 'RESULTS\\tThere was a clinically relevant reduction in the intervention group compared to the placebo group for knee pain , physical function , PGA , and @MWD at @ weeks .\\n',\n",
              " 'RESULTS\\tThe mean difference between treatment arms ( @ % CI ) was @ ( @-@ @ ) , p < @ ; @ ( @-@ @ ) , p < @ ; @ ( @-@ @ ) , p < @ ; and @ ( @-@ @ ) , p < @ , respectively .\\n',\n",
              " 'RESULTS\\tFurther , there was a clinically relevant reduction in the serum levels of IL-@ , IL-@ , TNF - , and hsCRP at @ weeks in the intervention group when compared to the placebo group .\\n',\n",
              " 'RESULTS\\tThese differences remained significant at @ weeks .\\n',\n",
              " 'RESULTS\\tThe Outcome Measures in Rheumatology Clinical Trials-Osteoarthritis Research Society International responder rate was @ % in the intervention group and @ % in the placebo group ( p < @ ) .\\n',\n",
              " 'CONCLUSIONS\\tLow-dose oral prednisolone had both a short-term and a longer sustained effect resulting in less knee pain , better physical function , and attenuation of systemic inflammation in older patients with knee OA ( ClinicalTrials.gov identifier NCT@ ) .\\n',\n",
              " '\\n',\n",
              " '###24854809\\n']"
            ]
          },
          "metadata": {},
          "execution_count": 8
        }
      ],
      "source": [
        "train_lines[:15]"
      ]
    },
    {
      "cell_type": "code",
      "execution_count": 9,
      "metadata": {
        "colab": {
          "base_uri": "https://localhost:8080/"
        },
        "id": "UykCzMYoecon",
        "outputId": "e22bba40-0109-4fab-9301-d925e754f7f5"
      },
      "outputs": [
        {
          "output_type": "execute_result",
          "data": {
            "text/plain": [
              "210040"
            ]
          },
          "metadata": {},
          "execution_count": 9
        }
      ],
      "source": [
        "len(train_lines)"
      ]
    },
    {
      "cell_type": "markdown",
      "metadata": {
        "id": "FJq_Yctpe8ID"
      },
      "source": [
        "Turn text format into dictionary for better representation like\n",
        "```\n",
        "[{'Line_number : 0,\n",
        "    'Target' :'Background',\n",
        "    'Text' :'This is the text ......',\n",
        "    'total_lines' : 11,\n",
        "    ...\n",
        "\n",
        "\n",
        "}]\n",
        "```"
      ]
    },
    {
      "cell_type": "code",
      "execution_count": 10,
      "metadata": {
        "id": "yGL2MQUXlzhx"
      },
      "outputs": [],
      "source": [
        "def preprocess_text_with_line_numbers(filename):\n",
        "  \"\"\"Returns a list of dictionaries of abstract line data.\n",
        "\n",
        "  Takes in filename, reads it contents and sorts through each line,\n",
        "  extracting things like the target label, the text of the sentance,\n",
        "  how many sentances are in the current abstract and what sentance number\n",
        "  the target line is\n",
        "\n",
        "  \"\"\"\n",
        "  input_lines = get_lines(filename)\n",
        "  abstract_lines = \"\"\n",
        "  abstract_samples = []\n",
        "\n",
        "  for line in input_lines:\n",
        "    if line.startswith(\"###\"):\n",
        "      abstract_id = line\n",
        "      abstract_lines = \"\"\n",
        "\n",
        "    elif line.isspace():\n",
        "      abstract_line_split = abstract_lines.splitlines()\n",
        "\n",
        "      for abstract_line_number, abstract_line in enumerate(abstract_line_split):\n",
        "        line_data = {}\n",
        "        target_text_split = abstract_line.split('\\t')\n",
        "        line_data['target'] = target_text_split[0]\n",
        "        line_data['text'] = target_text_split[1].lower()\n",
        "        line_data['line_number'] = abstract_line_number\n",
        "        line_data['total_lines'] = len(abstract_line_split) - 1\n",
        "        abstract_samples.append(line_data)\n",
        "\n",
        "    else:\n",
        "      abstract_lines += line\n",
        "\n",
        "  return abstract_samples\n",
        "\n"
      ]
    },
    {
      "cell_type": "code",
      "execution_count": 11,
      "metadata": {
        "colab": {
          "base_uri": "https://localhost:8080/"
        },
        "id": "XuToBexUy6Eh",
        "outputId": "091ad199-3d8c-4ad0-9716-421ca614d5c4"
      },
      "outputs": [
        {
          "output_type": "stream",
          "name": "stdout",
          "text": [
            "CPU times: user 604 ms, sys: 109 ms, total: 713 ms\n",
            "Wall time: 1.1 s\n"
          ]
        }
      ],
      "source": [
        "%%time\n",
        "train_samples = preprocess_text_with_line_numbers(data_dir + 'train.txt')\n",
        "val_samples = preprocess_text_with_line_numbers(data_dir + 'dev.txt')\n",
        "test_samples = preprocess_text_with_line_numbers(data_dir + 'test.txt')\n"
      ]
    },
    {
      "cell_type": "code",
      "execution_count": 12,
      "metadata": {
        "colab": {
          "base_uri": "https://localhost:8080/"
        },
        "id": "M2-r-Pxry6ct",
        "outputId": "392accc4-4e44-4b3c-8f01-d0ab0f683427"
      },
      "outputs": [
        {
          "output_type": "execute_result",
          "data": {
            "text/plain": [
              "[{'target': 'OBJECTIVE',\n",
              "  'text': 'to investigate the efficacy of @ weeks of daily low-dose oral prednisolone in improving pain , mobility , and systemic low-grade inflammation in the short term and whether the effect would be sustained at @ weeks in older adults with moderate to severe knee osteoarthritis ( oa ) .',\n",
              "  'line_number': 0,\n",
              "  'total_lines': 11},\n",
              " {'target': 'METHODS',\n",
              "  'text': 'a total of @ patients with primary knee oa were randomized @:@ ; @ received @ mg/day of prednisolone and @ received placebo for @ weeks .',\n",
              "  'line_number': 1,\n",
              "  'total_lines': 11},\n",
              " {'target': 'METHODS',\n",
              "  'text': 'outcome measures included pain reduction and improvement in function scores and systemic inflammation markers .',\n",
              "  'line_number': 2,\n",
              "  'total_lines': 11},\n",
              " {'target': 'METHODS',\n",
              "  'text': 'pain was assessed using the visual analog pain scale ( @-@ mm ) .',\n",
              "  'line_number': 3,\n",
              "  'total_lines': 11},\n",
              " {'target': 'METHODS',\n",
              "  'text': 'secondary outcome measures included the western ontario and mcmaster universities osteoarthritis index scores , patient global assessment ( pga ) of the severity of knee oa , and @-min walk distance ( @mwd ) .',\n",
              "  'line_number': 4,\n",
              "  'total_lines': 11},\n",
              " {'target': 'METHODS',\n",
              "  'text': 'serum levels of interleukin @ ( il-@ ) , il-@ , tumor necrosis factor ( tnf ) - , and high-sensitivity c-reactive protein ( hscrp ) were measured .',\n",
              "  'line_number': 5,\n",
              "  'total_lines': 11},\n",
              " {'target': 'RESULTS',\n",
              "  'text': 'there was a clinically relevant reduction in the intervention group compared to the placebo group for knee pain , physical function , pga , and @mwd at @ weeks .',\n",
              "  'line_number': 6,\n",
              "  'total_lines': 11},\n",
              " {'target': 'RESULTS',\n",
              "  'text': 'the mean difference between treatment arms ( @ % ci ) was @ ( @-@ @ ) , p < @ ; @ ( @-@ @ ) , p < @ ; @ ( @-@ @ ) , p < @ ; and @ ( @-@ @ ) , p < @ , respectively .',\n",
              "  'line_number': 7,\n",
              "  'total_lines': 11},\n",
              " {'target': 'RESULTS',\n",
              "  'text': 'further , there was a clinically relevant reduction in the serum levels of il-@ , il-@ , tnf - , and hscrp at @ weeks in the intervention group when compared to the placebo group .',\n",
              "  'line_number': 8,\n",
              "  'total_lines': 11},\n",
              " {'target': 'RESULTS',\n",
              "  'text': 'these differences remained significant at @ weeks .',\n",
              "  'line_number': 9,\n",
              "  'total_lines': 11},\n",
              " {'target': 'RESULTS',\n",
              "  'text': 'the outcome measures in rheumatology clinical trials-osteoarthritis research society international responder rate was @ % in the intervention group and @ % in the placebo group ( p < @ ) .',\n",
              "  'line_number': 10,\n",
              "  'total_lines': 11},\n",
              " {'target': 'CONCLUSIONS',\n",
              "  'text': 'low-dose oral prednisolone had both a short-term and a longer sustained effect resulting in less knee pain , better physical function , and attenuation of systemic inflammation in older patients with knee oa ( clinicaltrials.gov identifier nct@ ) .',\n",
              "  'line_number': 11,\n",
              "  'total_lines': 11},\n",
              " {'target': 'BACKGROUND',\n",
              "  'text': 'emotional eating is associated with overeating and the development of obesity .',\n",
              "  'line_number': 0,\n",
              "  'total_lines': 10},\n",
              " {'target': 'BACKGROUND',\n",
              "  'text': 'yet , empirical evidence for individual ( trait ) differences in emotional eating and cognitive mechanisms that contribute to eating during sad mood remain equivocal .',\n",
              "  'line_number': 1,\n",
              "  'total_lines': 10},\n",
              " {'target': 'OBJECTIVE',\n",
              "  'text': 'the aim of this study was to test if attention bias for food moderates the effect of self-reported emotional eating during sad mood ( vs neutral mood ) on actual food intake .',\n",
              "  'line_number': 2,\n",
              "  'total_lines': 10}]"
            ]
          },
          "metadata": {},
          "execution_count": 12
        }
      ],
      "source": [
        "# check the first abstract of our training data\n",
        "\n",
        "train_samples[:15]"
      ]
    },
    {
      "cell_type": "code",
      "execution_count": 13,
      "metadata": {
        "colab": {
          "base_uri": "https://localhost:8080/",
          "height": 519
        },
        "id": "LilI8yfNNpn_",
        "outputId": "c8083eb6-fa79-4c01-92e3-7963d6ce615b"
      },
      "outputs": [
        {
          "output_type": "execute_result",
          "data": {
            "text/plain": [
              "         target                                               text  \\\n",
              "0     OBJECTIVE  to investigate the efficacy of @ weeks of dail...   \n",
              "1       METHODS  a total of @ patients with primary knee oa wer...   \n",
              "2       METHODS  outcome measures included pain reduction and i...   \n",
              "3       METHODS  pain was assessed using the visual analog pain...   \n",
              "4       METHODS  secondary outcome measures included the wester...   \n",
              "5       METHODS  serum levels of interleukin @ ( il-@ ) , il-@ ...   \n",
              "6       RESULTS  there was a clinically relevant reduction in t...   \n",
              "7       RESULTS  the mean difference between treatment arms ( @...   \n",
              "8       RESULTS  further , there was a clinically relevant redu...   \n",
              "9       RESULTS  these differences remained significant at @ we...   \n",
              "10      RESULTS  the outcome measures in rheumatology clinical ...   \n",
              "11  CONCLUSIONS  low-dose oral prednisolone had both a short-te...   \n",
              "12   BACKGROUND  emotional eating is associated with overeating...   \n",
              "13   BACKGROUND  yet , empirical evidence for individual ( trai...   \n",
              "14    OBJECTIVE  the aim of this study was to test if attention...   \n",
              "\n",
              "    line_number  total_lines  \n",
              "0             0           11  \n",
              "1             1           11  \n",
              "2             2           11  \n",
              "3             3           11  \n",
              "4             4           11  \n",
              "5             5           11  \n",
              "6             6           11  \n",
              "7             7           11  \n",
              "8             8           11  \n",
              "9             9           11  \n",
              "10           10           11  \n",
              "11           11           11  \n",
              "12            0           10  \n",
              "13            1           10  \n",
              "14            2           10  "
            ],
            "text/html": [
              "\n",
              "\n",
              "  <div id=\"df-a6521c84-9b5f-4960-bc15-1414a882d71d\">\n",
              "    <div class=\"colab-df-container\">\n",
              "      <div>\n",
              "<style scoped>\n",
              "    .dataframe tbody tr th:only-of-type {\n",
              "        vertical-align: middle;\n",
              "    }\n",
              "\n",
              "    .dataframe tbody tr th {\n",
              "        vertical-align: top;\n",
              "    }\n",
              "\n",
              "    .dataframe thead th {\n",
              "        text-align: right;\n",
              "    }\n",
              "</style>\n",
              "<table border=\"1\" class=\"dataframe\">\n",
              "  <thead>\n",
              "    <tr style=\"text-align: right;\">\n",
              "      <th></th>\n",
              "      <th>target</th>\n",
              "      <th>text</th>\n",
              "      <th>line_number</th>\n",
              "      <th>total_lines</th>\n",
              "    </tr>\n",
              "  </thead>\n",
              "  <tbody>\n",
              "    <tr>\n",
              "      <th>0</th>\n",
              "      <td>OBJECTIVE</td>\n",
              "      <td>to investigate the efficacy of @ weeks of dail...</td>\n",
              "      <td>0</td>\n",
              "      <td>11</td>\n",
              "    </tr>\n",
              "    <tr>\n",
              "      <th>1</th>\n",
              "      <td>METHODS</td>\n",
              "      <td>a total of @ patients with primary knee oa wer...</td>\n",
              "      <td>1</td>\n",
              "      <td>11</td>\n",
              "    </tr>\n",
              "    <tr>\n",
              "      <th>2</th>\n",
              "      <td>METHODS</td>\n",
              "      <td>outcome measures included pain reduction and i...</td>\n",
              "      <td>2</td>\n",
              "      <td>11</td>\n",
              "    </tr>\n",
              "    <tr>\n",
              "      <th>3</th>\n",
              "      <td>METHODS</td>\n",
              "      <td>pain was assessed using the visual analog pain...</td>\n",
              "      <td>3</td>\n",
              "      <td>11</td>\n",
              "    </tr>\n",
              "    <tr>\n",
              "      <th>4</th>\n",
              "      <td>METHODS</td>\n",
              "      <td>secondary outcome measures included the wester...</td>\n",
              "      <td>4</td>\n",
              "      <td>11</td>\n",
              "    </tr>\n",
              "    <tr>\n",
              "      <th>5</th>\n",
              "      <td>METHODS</td>\n",
              "      <td>serum levels of interleukin @ ( il-@ ) , il-@ ...</td>\n",
              "      <td>5</td>\n",
              "      <td>11</td>\n",
              "    </tr>\n",
              "    <tr>\n",
              "      <th>6</th>\n",
              "      <td>RESULTS</td>\n",
              "      <td>there was a clinically relevant reduction in t...</td>\n",
              "      <td>6</td>\n",
              "      <td>11</td>\n",
              "    </tr>\n",
              "    <tr>\n",
              "      <th>7</th>\n",
              "      <td>RESULTS</td>\n",
              "      <td>the mean difference between treatment arms ( @...</td>\n",
              "      <td>7</td>\n",
              "      <td>11</td>\n",
              "    </tr>\n",
              "    <tr>\n",
              "      <th>8</th>\n",
              "      <td>RESULTS</td>\n",
              "      <td>further , there was a clinically relevant redu...</td>\n",
              "      <td>8</td>\n",
              "      <td>11</td>\n",
              "    </tr>\n",
              "    <tr>\n",
              "      <th>9</th>\n",
              "      <td>RESULTS</td>\n",
              "      <td>these differences remained significant at @ we...</td>\n",
              "      <td>9</td>\n",
              "      <td>11</td>\n",
              "    </tr>\n",
              "    <tr>\n",
              "      <th>10</th>\n",
              "      <td>RESULTS</td>\n",
              "      <td>the outcome measures in rheumatology clinical ...</td>\n",
              "      <td>10</td>\n",
              "      <td>11</td>\n",
              "    </tr>\n",
              "    <tr>\n",
              "      <th>11</th>\n",
              "      <td>CONCLUSIONS</td>\n",
              "      <td>low-dose oral prednisolone had both a short-te...</td>\n",
              "      <td>11</td>\n",
              "      <td>11</td>\n",
              "    </tr>\n",
              "    <tr>\n",
              "      <th>12</th>\n",
              "      <td>BACKGROUND</td>\n",
              "      <td>emotional eating is associated with overeating...</td>\n",
              "      <td>0</td>\n",
              "      <td>10</td>\n",
              "    </tr>\n",
              "    <tr>\n",
              "      <th>13</th>\n",
              "      <td>BACKGROUND</td>\n",
              "      <td>yet , empirical evidence for individual ( trai...</td>\n",
              "      <td>1</td>\n",
              "      <td>10</td>\n",
              "    </tr>\n",
              "    <tr>\n",
              "      <th>14</th>\n",
              "      <td>OBJECTIVE</td>\n",
              "      <td>the aim of this study was to test if attention...</td>\n",
              "      <td>2</td>\n",
              "      <td>10</td>\n",
              "    </tr>\n",
              "  </tbody>\n",
              "</table>\n",
              "</div>\n",
              "      <button class=\"colab-df-convert\" onclick=\"convertToInteractive('df-a6521c84-9b5f-4960-bc15-1414a882d71d')\"\n",
              "              title=\"Convert this dataframe to an interactive table.\"\n",
              "              style=\"display:none;\">\n",
              "\n",
              "  <svg xmlns=\"http://www.w3.org/2000/svg\" height=\"24px\"viewBox=\"0 0 24 24\"\n",
              "       width=\"24px\">\n",
              "    <path d=\"M0 0h24v24H0V0z\" fill=\"none\"/>\n",
              "    <path d=\"M18.56 5.44l.94 2.06.94-2.06 2.06-.94-2.06-.94-.94-2.06-.94 2.06-2.06.94zm-11 1L8.5 8.5l.94-2.06 2.06-.94-2.06-.94L8.5 2.5l-.94 2.06-2.06.94zm10 10l.94 2.06.94-2.06 2.06-.94-2.06-.94-.94-2.06-.94 2.06-2.06.94z\"/><path d=\"M17.41 7.96l-1.37-1.37c-.4-.4-.92-.59-1.43-.59-.52 0-1.04.2-1.43.59L10.3 9.45l-7.72 7.72c-.78.78-.78 2.05 0 2.83L4 21.41c.39.39.9.59 1.41.59.51 0 1.02-.2 1.41-.59l7.78-7.78 2.81-2.81c.8-.78.8-2.07 0-2.86zM5.41 20L4 18.59l7.72-7.72 1.47 1.35L5.41 20z\"/>\n",
              "  </svg>\n",
              "      </button>\n",
              "\n",
              "\n",
              "\n",
              "    <div id=\"df-089ffe22-1461-424d-9d4f-e5911598d691\">\n",
              "      <button class=\"colab-df-quickchart\" onclick=\"quickchart('df-089ffe22-1461-424d-9d4f-e5911598d691')\"\n",
              "              title=\"Suggest charts.\"\n",
              "              style=\"display:none;\">\n",
              "\n",
              "<svg xmlns=\"http://www.w3.org/2000/svg\" height=\"24px\"viewBox=\"0 0 24 24\"\n",
              "     width=\"24px\">\n",
              "    <g>\n",
              "        <path d=\"M19 3H5c-1.1 0-2 .9-2 2v14c0 1.1.9 2 2 2h14c1.1 0 2-.9 2-2V5c0-1.1-.9-2-2-2zM9 17H7v-7h2v7zm4 0h-2V7h2v10zm4 0h-2v-4h2v4z\"/>\n",
              "    </g>\n",
              "</svg>\n",
              "      </button>\n",
              "    </div>\n",
              "\n",
              "<style>\n",
              "  .colab-df-quickchart {\n",
              "    background-color: #E8F0FE;\n",
              "    border: none;\n",
              "    border-radius: 50%;\n",
              "    cursor: pointer;\n",
              "    display: none;\n",
              "    fill: #1967D2;\n",
              "    height: 32px;\n",
              "    padding: 0 0 0 0;\n",
              "    width: 32px;\n",
              "  }\n",
              "\n",
              "  .colab-df-quickchart:hover {\n",
              "    background-color: #E2EBFA;\n",
              "    box-shadow: 0px 1px 2px rgba(60, 64, 67, 0.3), 0px 1px 3px 1px rgba(60, 64, 67, 0.15);\n",
              "    fill: #174EA6;\n",
              "  }\n",
              "\n",
              "  [theme=dark] .colab-df-quickchart {\n",
              "    background-color: #3B4455;\n",
              "    fill: #D2E3FC;\n",
              "  }\n",
              "\n",
              "  [theme=dark] .colab-df-quickchart:hover {\n",
              "    background-color: #434B5C;\n",
              "    box-shadow: 0px 1px 3px 1px rgba(0, 0, 0, 0.15);\n",
              "    filter: drop-shadow(0px 1px 2px rgba(0, 0, 0, 0.3));\n",
              "    fill: #FFFFFF;\n",
              "  }\n",
              "</style>\n",
              "\n",
              "    <script>\n",
              "      async function quickchart(key) {\n",
              "        const containerElement = document.querySelector('#' + key);\n",
              "        const charts = await google.colab.kernel.invokeFunction(\n",
              "            'suggestCharts', [key], {});\n",
              "      }\n",
              "    </script>\n",
              "\n",
              "      <script>\n",
              "\n",
              "function displayQuickchartButton(domScope) {\n",
              "  let quickchartButtonEl =\n",
              "    domScope.querySelector('#df-089ffe22-1461-424d-9d4f-e5911598d691 button.colab-df-quickchart');\n",
              "  quickchartButtonEl.style.display =\n",
              "    google.colab.kernel.accessAllowed ? 'block' : 'none';\n",
              "}\n",
              "\n",
              "        displayQuickchartButton(document);\n",
              "      </script>\n",
              "      <style>\n",
              "    .colab-df-container {\n",
              "      display:flex;\n",
              "      flex-wrap:wrap;\n",
              "      gap: 12px;\n",
              "    }\n",
              "\n",
              "    .colab-df-convert {\n",
              "      background-color: #E8F0FE;\n",
              "      border: none;\n",
              "      border-radius: 50%;\n",
              "      cursor: pointer;\n",
              "      display: none;\n",
              "      fill: #1967D2;\n",
              "      height: 32px;\n",
              "      padding: 0 0 0 0;\n",
              "      width: 32px;\n",
              "    }\n",
              "\n",
              "    .colab-df-convert:hover {\n",
              "      background-color: #E2EBFA;\n",
              "      box-shadow: 0px 1px 2px rgba(60, 64, 67, 0.3), 0px 1px 3px 1px rgba(60, 64, 67, 0.15);\n",
              "      fill: #174EA6;\n",
              "    }\n",
              "\n",
              "    [theme=dark] .colab-df-convert {\n",
              "      background-color: #3B4455;\n",
              "      fill: #D2E3FC;\n",
              "    }\n",
              "\n",
              "    [theme=dark] .colab-df-convert:hover {\n",
              "      background-color: #434B5C;\n",
              "      box-shadow: 0px 1px 3px 1px rgba(0, 0, 0, 0.15);\n",
              "      filter: drop-shadow(0px 1px 2px rgba(0, 0, 0, 0.3));\n",
              "      fill: #FFFFFF;\n",
              "    }\n",
              "  </style>\n",
              "\n",
              "      <script>\n",
              "        const buttonEl =\n",
              "          document.querySelector('#df-a6521c84-9b5f-4960-bc15-1414a882d71d button.colab-df-convert');\n",
              "        buttonEl.style.display =\n",
              "          google.colab.kernel.accessAllowed ? 'block' : 'none';\n",
              "\n",
              "        async function convertToInteractive(key) {\n",
              "          const element = document.querySelector('#df-a6521c84-9b5f-4960-bc15-1414a882d71d');\n",
              "          const dataTable =\n",
              "            await google.colab.kernel.invokeFunction('convertToInteractive',\n",
              "                                                     [key], {});\n",
              "          if (!dataTable) return;\n",
              "\n",
              "          const docLinkHtml = 'Like what you see? Visit the ' +\n",
              "            '<a target=\"_blank\" href=https://colab.research.google.com/notebooks/data_table.ipynb>data table notebook</a>'\n",
              "            + ' to learn more about interactive tables.';\n",
              "          element.innerHTML = '';\n",
              "          dataTable['output_type'] = 'display_data';\n",
              "          await google.colab.output.renderOutput(dataTable, element);\n",
              "          const docLink = document.createElement('div');\n",
              "          docLink.innerHTML = docLinkHtml;\n",
              "          element.appendChild(docLink);\n",
              "        }\n",
              "      </script>\n",
              "    </div>\n",
              "  </div>\n"
            ]
          },
          "metadata": {},
          "execution_count": 13
        }
      ],
      "source": [
        "import pandas as pd\n",
        "\n",
        "train_df = pd.DataFrame(train_samples)\n",
        "val_df = pd.DataFrame(val_samples)\n",
        "test_df = pd.DataFrame(test_samples)\n",
        "train_df.head(15)"
      ]
    },
    {
      "cell_type": "code",
      "execution_count": 14,
      "metadata": {
        "colab": {
          "base_uri": "https://localhost:8080/"
        },
        "id": "4lWMhbHmaakb",
        "outputId": "d1436666-358e-4361-9734-ffbc43d10d5d"
      },
      "outputs": [
        {
          "output_type": "execute_result",
          "data": {
            "text/plain": [
              "METHODS        59353\n",
              "RESULTS        57953\n",
              "CONCLUSIONS    27168\n",
              "BACKGROUND     21727\n",
              "OBJECTIVE      13839\n",
              "Name: target, dtype: int64"
            ]
          },
          "metadata": {},
          "execution_count": 14
        }
      ],
      "source": [
        "train_df.target.value_counts()"
      ]
    },
    {
      "cell_type": "code",
      "execution_count": 15,
      "metadata": {
        "colab": {
          "base_uri": "https://localhost:8080/",
          "height": 449
        },
        "id": "G-c8o23UcpOD",
        "outputId": "a4f381c9-d510-48bd-b8c3-e3483ebc252d"
      },
      "outputs": [
        {
          "output_type": "execute_result",
          "data": {
            "text/plain": [
              "<Axes: ylabel='Frequency'>"
            ]
          },
          "metadata": {},
          "execution_count": 15
        },
        {
          "output_type": "display_data",
          "data": {
            "text/plain": [
              "<Figure size 640x480 with 1 Axes>"
            ],
            "image/png": "[encoded data removed]"
          },
          "metadata": {}
        }
      ],
      "source": [
        "# Lets check the length of different lines\n",
        "train_df.total_lines.plot.hist()"
      ]
    },
    {
      "cell_type": "markdown",
      "metadata": {
        "id": "4lCwLVkac2f-"
      },
      "source": [
        "### Get lists of sentances"
      ]
    },
    {
      "cell_type": "code",
      "execution_count": 16,
      "metadata": {
        "id": "MPU8a6zNdRKj"
      },
      "outputs": [],
      "source": [
        "train_sentances = train_df['text'].tolist()\n",
        "val_sentances = val_df['text'].tolist()\n",
        "test_sentances = test_df['text'].tolist()\n"
      ]
    },
    {
      "cell_type": "code",
      "execution_count": 17,
      "metadata": {
        "colab": {
          "base_uri": "https://localhost:8080/"
        },
        "id": "mzAkcaa6djBW",
        "outputId": "2c44871b-8c20-42ec-8e5f-e0a201ebe9eb"
      },
      "outputs": [
        {
          "output_type": "execute_result",
          "data": {
            "text/plain": [
              "['to investigate the efficacy of @ weeks of daily low-dose oral prednisolone in improving pain , mobility , and systemic low-grade inflammation in the short term and whether the effect would be sustained at @ weeks in older adults with moderate to severe knee osteoarthritis ( oa ) .',\n",
              " 'a total of @ patients with primary knee oa were randomized @:@ ; @ received @ mg/day of prednisolone and @ received placebo for @ weeks .',\n",
              " 'outcome measures included pain reduction and improvement in function scores and systemic inflammation markers .',\n",
              " 'pain was assessed using the visual analog pain scale ( @-@ mm ) .',\n",
              " 'secondary outcome measures included the western ontario and mcmaster universities osteoarthritis index scores , patient global assessment ( pga ) of the severity of knee oa , and @-min walk distance ( @mwd ) .',\n",
              " 'serum levels of interleukin @ ( il-@ ) , il-@ , tumor necrosis factor ( tnf ) - , and high-sensitivity c-reactive protein ( hscrp ) were measured .',\n",
              " 'there was a clinically relevant reduction in the intervention group compared to the placebo group for knee pain , physical function , pga , and @mwd at @ weeks .',\n",
              " 'the mean difference between treatment arms ( @ % ci ) was @ ( @-@ @ ) , p < @ ; @ ( @-@ @ ) , p < @ ; @ ( @-@ @ ) , p < @ ; and @ ( @-@ @ ) , p < @ , respectively .',\n",
              " 'further , there was a clinically relevant reduction in the serum levels of il-@ , il-@ , tnf - , and hscrp at @ weeks in the intervention group when compared to the placebo group .',\n",
              " 'these differences remained significant at @ weeks .']"
            ]
          },
          "metadata": {},
          "execution_count": 17
        }
      ],
      "source": [
        "# view the 10 lines of training sentances\n",
        "train_sentances[:10]"
      ]
    },
    {
      "cell_type": "markdown",
      "metadata": {
        "id": "dEcZlV57eHiR"
      },
      "source": [
        "##Make numerica labels\n",
        "Mostly ML models deal with numerical formatted data and not with string format"
      ]
    },
    {
      "cell_type": "code",
      "execution_count": 18,
      "metadata": {
        "colab": {
          "base_uri": "https://localhost:8080/"
        },
        "id": "QwR7W21Pe2jx",
        "outputId": "677a78c1-fe64-40d7-c120-5a8431b628f9"
      },
      "outputs": [
        {
          "output_type": "stream",
          "name": "stderr",
          "text": [
            "/usr/local/lib/python3.10/dist-packages/sklearn/preprocessing/_encoders.py:868: FutureWarning: `sparse` was renamed to `sparse_output` in version 1.2 and will be removed in 1.4. `sparse_output` is ignored unless you leave `sparse` to its default value.\n",
            "  warnings.warn(\n"
          ]
        },
        {
          "output_type": "execute_result",
          "data": {
            "text/plain": [
              "array([[0., 0., 0., 1., 0.],\n",
              "       [0., 0., 1., 0., 0.],\n",
              "       [0., 0., 1., 0., 0.],\n",
              "       ...,\n",
              "       [0., 0., 0., 0., 1.],\n",
              "       [0., 1., 0., 0., 0.],\n",
              "       [0., 1., 0., 0., 0.]])"
            ]
          },
          "metadata": {},
          "execution_count": 18
        }
      ],
      "source": [
        "# we'll use One hot encoding to label Labels bcoz there are countable labels\n",
        "from sklearn.preprocessing  import OneHotEncoder\n",
        "\n",
        "one_hot_encoder = OneHotEncoder(sparse=False)\n",
        "train_labels_one_hot = one_hot_encoder.fit_transform(train_df['target'].to_numpy().reshape(-1, 1))\n",
        "val_labels_one_hot = one_hot_encoder.transform(val_df['target'].to_numpy().reshape(-1, 1))\n",
        "test_labels_one_hot = one_hot_encoder.transform(test_df['target'].to_numpy().reshape(-1, 1))\n",
        "\n",
        "train_labels_one_hot"
      ]
    },
    {
      "cell_type": "markdown",
      "metadata": {
        "id": "nAZyszAQuw02"
      },
      "source": [
        "## Label encode labels"
      ]
    },
    {
      "cell_type": "code",
      "execution_count": 19,
      "metadata": {
        "id": "wvw2QVi6vnCm"
      },
      "outputs": [],
      "source": [
        "# extract labels (\"target\" columns)\n",
        "from sklearn.preprocessing import LabelEncoder\n",
        "label_encoder = LabelEncoder()\n",
        "train_labels_encoded = label_encoder.fit_transform(train_df['target'].to_numpy())\n",
        "val_labels_encoded = label_encoder.transform(val_df['target'].to_numpy())\n",
        "test_labels_encoded = label_encoder.transform(test_df['target'].to_numpy())"
      ]
    },
    {
      "cell_type": "code",
      "execution_count": 20,
      "metadata": {
        "colab": {
          "base_uri": "https://localhost:8080/"
        },
        "id": "_2Hl5k7n7ihH",
        "outputId": "f71d8b96-91ab-42d0-bfe8-ea1c1cbe219e"
      },
      "outputs": [
        {
          "output_type": "execute_result",
          "data": {
            "text/plain": [
              "array([3, 2, 2, ..., 4, 1, 1])"
            ]
          },
          "metadata": {},
          "execution_count": 20
        }
      ],
      "source": [
        "train_labels_encoded"
      ]
    },
    {
      "cell_type": "code",
      "execution_count": 21,
      "metadata": {
        "colab": {
          "base_uri": "https://localhost:8080/"
        },
        "id": "Wbwu-Am47k4z",
        "outputId": "fffd87d4-6c0e-4eaa-86db-4006e5efecde"
      },
      "outputs": [
        {
          "output_type": "execute_result",
          "data": {
            "text/plain": [
              "array([0, 0, 3, ..., 4, 1, 1])"
            ]
          },
          "metadata": {},
          "execution_count": 21
        }
      ],
      "source": [
        "val_labels_encoded"
      ]
    },
    {
      "cell_type": "code",
      "execution_count": 22,
      "metadata": {
        "colab": {
          "base_uri": "https://localhost:8080/"
        },
        "id": "bZedC556NHIJ",
        "outputId": "a64ba982-0fda-423f-92c1-c5e8e206d509"
      },
      "outputs": [
        {
          "output_type": "execute_result",
          "data": {
            "text/plain": [
              "(5,\n",
              " array(['BACKGROUND', 'CONCLUSIONS', 'METHODS', 'OBJECTIVE', 'RESULTS'],\n",
              "       dtype=object))"
            ]
          },
          "metadata": {},
          "execution_count": 22
        }
      ],
      "source": [
        "# Get class names and number of classes from label encoder/Reverse Encoding\n",
        "num_classes = len(label_encoder.classes_)\n",
        "class_names = label_encoder.classes_\n",
        "num_classes, class_names"
      ]
    },
    {
      "cell_type": "markdown",
      "metadata": {
        "id": "E9FPEnXMd5XR"
      },
      "source": [
        "#**List Of Experiments we'll perform to achieve better accuracy for our model**\n",
        "\n",
        "0. Naive Bayes with TF_IDF encoder\n",
        "1. Conv1D with token embeddings\n",
        "2. Tf Pertrained Feature Extractor\n",
        "3. COnv1D with char embeddings\n",
        "4. Pretrained token embeddings + char embedding\n",
        "5. Pretrained token embeddings + char embedding + positional embedding"
      ]
    },
    {
      "cell_type": "markdown",
      "metadata": {
        "id": "KTmUMWLnfc3l"
      },
      "source": [
        "## model 0: Getting a Baseline"
      ]
    },
    {
      "cell_type": "code",
      "execution_count": 23,
      "metadata": {
        "id": "G5pKVRCvgz-z",
        "colab": {
          "base_uri": "https://localhost:8080/",
          "height": 127
        },
        "outputId": "6cf3f68b-8818-4e38-ce11-4c6a33eb3abc"
      },
      "outputs": [
        {
          "output_type": "execute_result",
          "data": {
            "text/plain": [
              "Pipeline(steps=[('tf-idf', TfidfVectorizer()), ('clf', MultinomialNB())])"
            ],
            "text/html": [
              "<style>#sk-container-id-1 {color: black;background-color: white;}#sk-container-id-1 pre{padding: 0;}#sk-container-id-1 div.sk-toggleable {background-color: white;}#sk-container-id-1 label.sk-toggleable__label {cursor: pointer;display: block;width: 100%;margin-bottom: 0;padding: 0.3em;box-sizing: border-box;text-align: center;}#sk-container-id-1 label.sk-toggleable__label-arrow:before {content: \"▸\";float: left;margin-right: 0.25em;color: #696969;}#sk-container-id-1 label.sk-toggleable__label-arrow:hover:before {color: black;}#sk-container-id-1 div.sk-estimator:hover label.sk-toggleable__label-arrow:before {color: black;}#sk-container-id-1 div.sk-toggleable__content {max-height: 0;max-width: 0;overflow: hidden;text-align: left;background-color: #f0f8ff;}#sk-container-id-1 div.sk-toggleable__content pre {margin: 0.2em;color: black;border-radius: 0.25em;background-color: #f0f8ff;}#sk-container-id-1 input.sk-toggleable__control:checked~div.sk-toggleable__content {max-height: 200px;max-width: 100%;overflow: auto;}#sk-container-id-1 input.sk-toggleable__control:checked~label.sk-toggleable__label-arrow:before {content: \"▾\";}#sk-container-id-1 div.sk-estimator input.sk-toggleable__control:checked~label.sk-toggleable__label {background-color: #d4ebff;}#sk-container-id-1 div.sk-label input.sk-toggleable__control:checked~label.sk-toggleable__label {background-color: #d4ebff;}#sk-container-id-1 input.sk-hidden--visually {border: 0;clip: rect(1px 1px 1px 1px);clip: rect(1px, 1px, 1px, 1px);height: 1px;margin: -1px;overflow: hidden;padding: 0;position: absolute;width: 1px;}#sk-container-id-1 div.sk-estimator {font-family: monospace;background-color: #f0f8ff;border: 1px dotted black;border-radius: 0.25em;box-sizing: border-box;margin-bottom: 0.5em;}#sk-container-id-1 div.sk-estimator:hover {background-color: #d4ebff;}#sk-container-id-1 div.sk-parallel-item::after {content: \"\";width: 100%;border-bottom: 1px solid gray;flex-grow: 1;}#sk-container-id-1 div.sk-label:hover label.sk-toggleable__label {background-color: #d4ebff;}#sk-container-id-1 div.sk-serial::before {content: \"\";position: absolute;border-left: 1px solid gray;box-sizing: border-box;top: 0;bottom: 0;left: 50%;z-index: 0;}#sk-container-id-1 div.sk-serial {display: flex;flex-direction: column;align-items: center;background-color: white;padding-right: 0.2em;padding-left: 0.2em;position: relative;}#sk-container-id-1 div.sk-item {position: relative;z-index: 1;}#sk-container-id-1 div.sk-parallel {display: flex;align-items: stretch;justify-content: center;background-color: white;position: relative;}#sk-container-id-1 div.sk-item::before, #sk-container-id-1 div.sk-parallel-item::before {content: \"\";position: absolute;border-left: 1px solid gray;box-sizing: border-box;top: 0;bottom: 0;left: 50%;z-index: -1;}#sk-container-id-1 div.sk-parallel-item {display: flex;flex-direction: column;z-index: 1;position: relative;background-color: white;}#sk-container-id-1 div.sk-parallel-item:first-child::after {align-self: flex-end;width: 50%;}#sk-container-id-1 div.sk-parallel-item:last-child::after {align-self: flex-start;width: 50%;}#sk-container-id-1 div.sk-parallel-item:only-child::after {width: 0;}#sk-container-id-1 div.sk-dashed-wrapped {border: 1px dashed gray;margin: 0 0.4em 0.5em 0.4em;box-sizing: border-box;padding-bottom: 0.4em;background-color: white;}#sk-container-id-1 div.sk-label label {font-family: monospace;font-weight: bold;display: inline-block;line-height: 1.2em;}#sk-container-id-1 div.sk-label-container {text-align: center;}#sk-container-id-1 div.sk-container {/* jupyter's `normalize.less` sets `[hidden] { display: none; }` but bootstrap.min.css set `[hidden] { display: none !important; }` so we also need the `!important` here to be able to override the default hidden behavior on the sphinx rendered scikit-learn.org. See: https://github.com/scikit-learn/scikit-learn/issues/21755 */display: inline-block !important;position: relative;}#sk-container-id-1 div.sk-text-repr-fallback {display: none;}</style><div id=\"sk-container-id-1\" class=\"sk-top-container\"><div class=\"sk-text-repr-fallback\"><pre>Pipeline(steps=[(&#x27;tf-idf&#x27;, TfidfVectorizer()), (&#x27;clf&#x27;, MultinomialNB())])</pre><b>In a Jupyter environment, please rerun this cell to show the HTML representation or trust the notebook. <br />On GitHub, the HTML representation is unable to render, please try loading this page with nbviewer.org.</b></div><div class=\"sk-container\" hidden><div class=\"sk-item sk-dashed-wrapped\"><div class=\"sk-label-container\"><div class=\"sk-label sk-toggleable\"><input class=\"sk-toggleable__control sk-hidden--visually\" id=\"sk-estimator-id-1\" type=\"checkbox\" ><label for=\"sk-estimator-id-1\" class=\"sk-toggleable__label sk-toggleable__label-arrow\">Pipeline</label><div class=\"sk-toggleable__content\"><pre>Pipeline(steps=[(&#x27;tf-idf&#x27;, TfidfVectorizer()), (&#x27;clf&#x27;, MultinomialNB())])</pre></div></div></div><div class=\"sk-serial\"><div class=\"sk-item\"><div class=\"sk-estimator sk-toggleable\"><input class=\"sk-toggleable__control sk-hidden--visually\" id=\"sk-estimator-id-2\" type=\"checkbox\" ><label for=\"sk-estimator-id-2\" class=\"sk-toggleable__label sk-toggleable__label-arrow\">TfidfVectorizer</label><div class=\"sk-toggleable__content\"><pre>TfidfVectorizer()</pre></div></div></div><div class=\"sk-item\"><div class=\"sk-estimator sk-toggleable\"><input class=\"sk-toggleable__control sk-hidden--visually\" id=\"sk-estimator-id-3\" type=\"checkbox\" ><label for=\"sk-estimator-id-3\" class=\"sk-toggleable__label sk-toggleable__label-arrow\">MultinomialNB</label><div class=\"sk-toggleable__content\"><pre>MultinomialNB()</pre></div></div></div></div></div></div></div>"
            ]
          },
          "metadata": {},
          "execution_count": 23
        }
      ],
      "source": [
        "from sklearn.feature_extraction.text import TfidfVectorizer\n",
        "from sklearn.naive_bayes import MultinomialNB\n",
        "from sklearn.pipeline import Pipeline\n",
        "\n",
        "# create a pipeline\n",
        "model_0 = Pipeline([\n",
        "    ('tf-idf', TfidfVectorizer()),\n",
        "    ('clf', MultinomialNB())\n",
        "])\n",
        "\n",
        "# Fit the pipeline to the training data\n",
        "model_0.fit(X = train_sentances,\n",
        "            y = train_labels_encoded)"
      ]
    },
    {
      "cell_type": "code",
      "execution_count": 24,
      "metadata": {
        "id": "LsIG78-B3dSc"
      },
      "outputs": [],
      "source": [
        "from sklearn import set_config\n",
        "set_config(display = 'diagram')"
      ]
    },
    {
      "cell_type": "code",
      "execution_count": 25,
      "metadata": {
        "id": "36KgFf7Omx-1",
        "colab": {
          "base_uri": "https://localhost:8080/"
        },
        "outputId": "5d281951-4df0-4cb4-90b5-dfeda5ed498f"
      },
      "outputs": [
        {
          "output_type": "execute_result",
          "data": {
            "text/plain": [
              "0.7218323844829869"
            ]
          },
          "metadata": {},
          "execution_count": 25
        }
      ],
      "source": [
        "# Evaluate baseline model on validation dataset\n",
        "model_0.score(X = val_sentances,\n",
        "              y = val_labels_encoded)"
      ]
    },
    {
      "cell_type": "code",
      "execution_count": 26,
      "metadata": {
        "id": "JSglClo3oDi_",
        "colab": {
          "base_uri": "https://localhost:8080/"
        },
        "outputId": "b90fb4eb-ce21-407c-a18c-c232e00a4932"
      },
      "outputs": [
        {
          "output_type": "execute_result",
          "data": {
            "text/plain": [
              "array([4, 1, 3, ..., 4, 4, 1])"
            ]
          },
          "metadata": {},
          "execution_count": 26
        }
      ],
      "source": [
        "# Make predictions using our baseline model\n",
        "baseline_preds = model_0.predict(val_sentances)\n",
        "baseline_preds"
      ]
    },
    {
      "cell_type": "code",
      "execution_count": 27,
      "metadata": {
        "id": "QLZt7U44oQLV",
        "colab": {
          "base_uri": "https://localhost:8080/"
        },
        "outputId": "1126491a-1378-4341-b41a-623361178fe5"
      },
      "outputs": [
        {
          "output_type": "execute_result",
          "data": {
            "text/plain": [
              "array([0, 0, 3, ..., 4, 1, 1])"
            ]
          },
          "metadata": {},
          "execution_count": 27
        }
      ],
      "source": [
        "val_labels_encoded   # given"
      ]
    },
    {
      "cell_type": "code",
      "execution_count": 28,
      "metadata": {
        "id": "LYd5pk1_oVhs"
      },
      "outputs": [],
      "source": [
        "# function for accuracy, precision, recall, f1-score\n",
        "from sklearn.metrics import accuracy_score, precision_recall_fscore_support\n",
        "\n",
        "\n",
        "def calculate_results(y_true, y_pred):\n",
        "  \"\"\"\n",
        "  calculate model acuracy, precision, recall and f1 score of a binary classification model\n",
        "  \"\"\"\n",
        "  # calculate model accuracy\n",
        "  model_accuracy = accuracy_score(y_true, y_pred) * 100\n",
        "  # calculat model precision, recall and f1-score using weigthed average\n",
        "  model_precision, model_recall, model_f1, _ = precision_recall_fscore_support(y_true, y_pred,average = 'weighted' )\n",
        "\n",
        "  model_results = {\n",
        "\n",
        "                   'accuracy' :model_accuracy,\n",
        "                   'precision':model_precision,\n",
        "                   'recall' : model_recall,\n",
        "                   'f1' : model_f1\n",
        "  }\n",
        "  return model_results\n"
      ]
    },
    {
      "cell_type": "code",
      "execution_count": 29,
      "metadata": {
        "id": "ssEWJzqNo2qI",
        "colab": {
          "base_uri": "https://localhost:8080/"
        },
        "outputId": "02448c94-a28d-44a9-af7e-95a99749f21a"
      },
      "outputs": [
        {
          "output_type": "execute_result",
          "data": {
            "text/plain": [
              "{'accuracy': 72.1832384482987,\n",
              " 'precision': 0.7186466952323352,\n",
              " 'recall': 0.7218323844829869,\n",
              " 'f1': 0.6989250353450294}"
            ]
          },
          "metadata": {},
          "execution_count": 29
        }
      ],
      "source": [
        "# Calculate baseline results\n",
        "baseline_results = calculate_results(val_labels_encoded, baseline_preds)\n",
        "baseline_results"
      ]
    },
    {
      "cell_type": "markdown",
      "metadata": {
        "id": "WnBeB-FDpAmj"
      },
      "source": [
        "### Preparing our data (the text) for deep sequence models\n"
      ]
    },
    {
      "cell_type": "code",
      "execution_count": 30,
      "metadata": {
        "id": "LmBhWIDSaxpL"
      },
      "outputs": [],
      "source": [
        "import numpy as np\n",
        "import tensorflow as tf\n",
        "import tensorflow.keras as layers"
      ]
    },
    {
      "cell_type": "code",
      "execution_count": 31,
      "metadata": {
        "id": "wNmf-JTna3Zg"
      },
      "outputs": [],
      "source": [
        "# long sentance === took average\n",
        "sent_lens = [len(sentance.split()) for sentance in train_sentances]"
      ]
    },
    {
      "cell_type": "code",
      "execution_count": 32,
      "metadata": {
        "id": "eLt8whuPbR9a"
      },
      "outputs": [],
      "source": [
        "avg_sent_len = np.mean(sent_lens)"
      ]
    },
    {
      "cell_type": "code",
      "execution_count": 33,
      "metadata": {
        "id": "EAZ8PgjUbTef",
        "colab": {
          "base_uri": "https://localhost:8080/"
        },
        "outputId": "409d48c3-3a61-4ae5-e317-356605ab311c"
      },
      "outputs": [
        {
          "output_type": "execute_result",
          "data": {
            "text/plain": [
              "26.338269273494777"
            ]
          },
          "metadata": {},
          "execution_count": 33
        }
      ],
      "source": [
        "avg_sent_len"
      ]
    },
    {
      "cell_type": "code",
      "execution_count": 34,
      "metadata": {
        "id": "dDugpK6VbazX",
        "colab": {
          "base_uri": "https://localhost:8080/",
          "height": 707
        },
        "outputId": "71011334-71e4-4fd1-dca1-fca196e307d7"
      },
      "outputs": [
        {
          "output_type": "execute_result",
          "data": {
            "text/plain": [
              "(array([1.6499e+04, 5.6664e+04, 5.2683e+04, 2.9050e+04, 1.3111e+04,\n",
              "        5.6610e+03, 3.0490e+03, 1.5190e+03, 8.0800e+02, 4.3200e+02,\n",
              "        2.2600e+02, 1.2800e+02, 7.7000e+01, 3.9000e+01, 3.0000e+01,\n",
              "        1.5000e+01, 9.0000e+00, 8.0000e+00, 4.0000e+00, 8.0000e+00,\n",
              "        7.0000e+00, 5.0000e+00, 1.0000e+00, 2.0000e+00, 3.0000e+00,\n",
              "        0.0000e+00, 0.0000e+00, 1.0000e+00, 0.0000e+00, 1.0000e+00]),\n",
              " array([  1.        ,  10.83333333,  20.66666667,  30.5       ,\n",
              "         40.33333333,  50.16666667,  60.        ,  69.83333333,\n",
              "         79.66666667,  89.5       ,  99.33333333, 109.16666667,\n",
              "        119.        , 128.83333333, 138.66666667, 148.5       ,\n",
              "        158.33333333, 168.16666667, 178.        , 187.83333333,\n",
              "        197.66666667, 207.5       , 217.33333333, 227.16666667,\n",
              "        237.        , 246.83333333, 256.66666667, 266.5       ,\n",
              "        276.33333333, 286.16666667, 296.        ]),\n",
              " <BarContainer object of 30 artists>)"
            ]
          },
          "metadata": {},
          "execution_count": 34
        },
        {
          "output_type": "display_data",
          "data": {
            "text/plain": [
              "<Figure size 640x480 with 1 Axes>"
            ],
            "image/png": "[encoded data removed]"
          },
          "metadata": {}
        }
      ],
      "source": [
        "import matplotlib.pyplot as plt\n",
        "plt.hist(sent_lens, bins = 30)"
      ]
    },
    {
      "cell_type": "code",
      "execution_count": 35,
      "metadata": {
        "id": "Iae-Mv-fc6Ie",
        "colab": {
          "base_uri": "https://localhost:8080/"
        },
        "outputId": "e176f564-e74b-4931-a6e3-a4c1ca9cae52"
      },
      "outputs": [
        {
          "output_type": "execute_result",
          "data": {
            "text/plain": [
              "55"
            ]
          },
          "metadata": {},
          "execution_count": 35
        }
      ],
      "source": [
        "output_seq_len = int(np.percentile(sent_lens, 95))\n",
        "output_seq_len"
      ]
    },
    {
      "cell_type": "markdown",
      "metadata": {
        "id": "iIALFrsndo_G"
      },
      "source": [
        "### create Text vectorizer layer\n",
        "which turns strings to numerical vectos"
      ]
    },
    {
      "cell_type": "code",
      "execution_count": 36,
      "metadata": {
        "id": "fWn9jb5qd-C1"
      },
      "outputs": [],
      "source": [
        "# total words in our vocabulary(given in Paper)\n",
        "max_tokens = 68000"
      ]
    },
    {
      "cell_type": "code",
      "execution_count": 37,
      "metadata": {
        "id": "kfJ2q_r2k7Ke"
      },
      "outputs": [],
      "source": [
        "from tensorflow.keras.layers.experimental.preprocessing import TextVectorization\n",
        "\n",
        "text_vectorizer = TextVectorization(max_tokens = max_tokens,\n",
        "                                    output_sequence_length = output_seq_len)"
      ]
    },
    {
      "cell_type": "code",
      "execution_count": 38,
      "metadata": {
        "id": "keZBWh_5lWeO"
      },
      "outputs": [],
      "source": [
        "# adapt text Vectorizer to training sentances\n",
        "text_vectorizer.adapt(train_sentances)"
      ]
    },
    {
      "cell_type": "code",
      "execution_count": 39,
      "metadata": {
        "id": "GETeGeaqln70",
        "colab": {
          "base_uri": "https://localhost:8080/"
        },
        "outputId": "deb24ff5-fecc-4533-9d5a-13e317f5df50"
      },
      "outputs": [
        {
          "output_type": "stream",
          "name": "stdout",
          "text": [
            "text:\n",
            "the aims of this study were to evaluate physical activity ( by quantifying walking steps/day ) in romanian chronic obstructive pulmonary disease ( copd ) patients and healthy subjects .\n",
            "\n",
            "Vectorized text: [[    2  1040     4    23    17     9     6   164   189   190    22 14546\n",
            "    815  6464     5 46514   244  1487   562   114   762    12     3   247\n",
            "    104     0     0     0     0     0     0     0     0     0     0     0\n",
            "      0     0     0     0     0     0     0     0     0     0     0     0\n",
            "      0     0     0     0     0     0     0]]\n"
          ]
        }
      ],
      "source": [
        "# Test out text vectorizer on random sentances\n",
        "\n",
        "import random\n",
        "target_sentance = random.choice(train_sentances)\n",
        "print(f'text:\\n{target_sentance}')\n",
        "print(f'\\nVectorized text: {text_vectorizer([target_sentance])}')"
      ]
    },
    {
      "cell_type": "code",
      "execution_count": 40,
      "metadata": {
        "id": "Yncw6TflmJ6U",
        "colab": {
          "base_uri": "https://localhost:8080/"
        },
        "outputId": "d9c70b7c-f1ec-4ce5-a93f-2597fe0fb37f"
      },
      "outputs": [
        {
          "output_type": "execute_result",
          "data": {
            "text/plain": [
              "{'name': 'text_vectorization',\n",
              " 'trainable': True,\n",
              " 'dtype': 'string',\n",
              " 'batch_input_shape': (None,),\n",
              " 'max_tokens': 68000,\n",
              " 'standardize': 'lower_and_strip_punctuation',\n",
              " 'split': 'whitespace',\n",
              " 'ngrams': None,\n",
              " 'output_mode': 'int',\n",
              " 'output_sequence_length': 55,\n",
              " 'pad_to_max_tokens': False,\n",
              " 'sparse': False,\n",
              " 'ragged': False,\n",
              " 'vocabulary': None,\n",
              " 'idf_weights': None,\n",
              " 'encoding': 'utf-8',\n",
              " 'vocabulary_size': 64841}"
            ]
          },
          "metadata": {},
          "execution_count": 40
        }
      ],
      "source": [
        "# get the config of our text vectorizer\n",
        "text_vectorizer.get_config()"
      ]
    },
    {
      "cell_type": "markdown",
      "metadata": {
        "id": "xfPvIaH2Z2CY"
      },
      "source": [
        "## Create custom text embedding\n"
      ]
    },
    {
      "cell_type": "code",
      "execution_count": 41,
      "metadata": {
        "id": "egX34FK5dME_"
      },
      "outputs": [],
      "source": [
        "# token_embed = layers.Embedding(input_dim = len(rct_20k_text),\n",
        "#                                output_dim = 256)"
      ]
    },
    {
      "cell_type": "code",
      "execution_count": 42,
      "metadata": {
        "id": "OyD_hFo6C44d",
        "colab": {
          "base_uri": "https://localhost:8080/"
        },
        "outputId": "812395d7-c815-47c3-e6da-4d324116b40a"
      },
      "outputs": [
        {
          "output_type": "stream",
          "name": "stdout",
          "text": [
            "Number of words in vocabulary: 64841\n",
            "Most common words in the vocabulary: ['', '[UNK]', 'the', 'and', 'of']\n",
            "Least common words in the vocabulary: ['aainduced', 'aaigroup', 'aachener', 'aachen', 'aaacp']\n"
          ]
        }
      ],
      "source": [
        "rct_20k_text_vocab = text_vectorizer.get_vocabulary()\n",
        "print(f\"Number of words in vocabulary: {len(rct_20k_text_vocab)}\"),\n",
        "print(f\"Most common words in the vocabulary: {rct_20k_text_vocab[:5]}\")\n",
        "print(f\"Least common words in the vocabulary: {rct_20k_text_vocab[-5:]}\")"
      ]
    },
    {
      "cell_type": "code",
      "execution_count": 43,
      "metadata": {
        "id": "O_oBF_FLDRHh"
      },
      "outputs": [],
      "source": [
        "import tensorflow as tf\n",
        "\n",
        "token_embed = tf.keras.layers.Embedding(input_dim = len(rct_20k_text_vocab),\n",
        "                                         output_dim = 256,\n",
        "                                         mask_zero = True,\n",
        "                                         name = 'token_embedding')"
      ]
    },
    {
      "cell_type": "code",
      "execution_count": 44,
      "metadata": {
        "id": "Ggdo2TzUDwuA",
        "colab": {
          "base_uri": "https://localhost:8080/"
        },
        "outputId": "f7faa82b-b29c-41bb-e6e2-6b99eba28294"
      },
      "outputs": [
        {
          "output_type": "stream",
          "name": "stdout",
          "text": [
            "Target sentance:\n",
            "the aims of this study were to evaluate physical activity ( by quantifying walking steps/day ) in romanian chronic obstructive pulmonary disease ( copd ) patients and healthy subjects .\n",
            "\n",
            "\n",
            "Vectorized target sentance:\n",
            "[[    2  1040     4    23    17     9     6   164   189   190    22 14546\n",
            "    815  6464     5 46514   244  1487   562   114   762    12     3   247\n",
            "    104     0     0     0     0     0     0     0     0     0     0     0\n",
            "      0     0     0     0     0     0     0     0     0     0     0     0\n",
            "      0     0     0     0     0     0     0]]\n",
            "\n",
            "\n",
            "shape of vectorized sentance:(1, 55)\n",
            "\n",
            "\n",
            "embedded target sentance:\n",
            "[[[-0.04321808 -0.02564457  0.03039329 ...  0.00841254 -0.04243988\n",
            "   -0.01661035]\n",
            "  [ 0.04687235 -0.03468873  0.02670424 ...  0.02746891 -0.01003091\n",
            "   -0.02932342]\n",
            "  [-0.03305088 -0.00125644  0.02241803 ... -0.00743143  0.04004356\n",
            "   -0.02197059]\n",
            "  ...\n",
            "  [-0.01529936  0.04130764 -0.04464239 ... -0.04017972  0.04445957\n",
            "    0.00941094]\n",
            "  [-0.01529936  0.04130764 -0.04464239 ... -0.04017972  0.04445957\n",
            "    0.00941094]\n",
            "  [-0.01529936  0.04130764 -0.04464239 ... -0.04017972  0.04445957\n",
            "    0.00941094]]]\n",
            "\n",
            "\n",
            "shape of embedded sentance:(1, 55, 256)\n"
          ]
        }
      ],
      "source": [
        "print(f'Target sentance:\\n{target_sentance}\\n\\n')\n",
        "print(f'Vectorized target sentance:\\n{text_vectorizer([target_sentance])}\\n\\n')\n",
        "print(f'shape of vectorized sentance:{text_vectorizer([target_sentance]).shape}\\n\\n')\n",
        "print(f'embedded target sentance:\\n{token_embed(text_vectorizer([target_sentance]))}\\n\\n')\n",
        "print(f'shape of embedded sentance:{token_embed(text_vectorizer([target_sentance])).shape}')"
      ]
    },
    {
      "cell_type": "code",
      "execution_count": 45,
      "metadata": {
        "id": "V2i4h8wGErtz"
      },
      "outputs": [],
      "source": [
        "## Turn our data into tensorflow Datasets\n",
        "\n",
        "train_dataset = tf.data.Dataset.from_tensor_slices((train_sentances, train_labels_one_hot))\n",
        "valid_dataset = tf.data.Dataset.from_tensor_slices((val_sentances, val_labels_one_hot))\n",
        "test_dataset = tf.data.Dataset.from_tensor_slices((test_sentances, test_labels_one_hot))"
      ]
    },
    {
      "cell_type": "code",
      "execution_count": 46,
      "metadata": {
        "id": "gOjZcjhkH9iB",
        "colab": {
          "base_uri": "https://localhost:8080/"
        },
        "outputId": "b3be5d3a-36c7-417a-cda1-6a4e0611b463"
      },
      "outputs": [
        {
          "output_type": "execute_result",
          "data": {
            "text/plain": [
              "<_TensorSliceDataset element_spec=(TensorSpec(shape=(), dtype=tf.string, name=None), TensorSpec(shape=(5,), dtype=tf.float64, name=None))>"
            ]
          },
          "metadata": {},
          "execution_count": 46
        }
      ],
      "source": [
        "train_dataset"
      ]
    },
    {
      "cell_type": "code",
      "execution_count": 47,
      "metadata": {
        "id": "c7_4jf2PqeOn",
        "colab": {
          "base_uri": "https://localhost:8080/"
        },
        "outputId": "6b2342b4-e071-46cc-e214-76f239bdf5ac"
      },
      "outputs": [
        {
          "output_type": "execute_result",
          "data": {
            "text/plain": [
              "<_PrefetchDataset element_spec=(TensorSpec(shape=(None,), dtype=tf.string, name=None), TensorSpec(shape=(None, 5), dtype=tf.float64, name=None))>"
            ]
          },
          "metadata": {},
          "execution_count": 47
        }
      ],
      "source": [
        "# Take the TensorSliceDataset's and turn them into prefetched batches\n",
        "train_dataset = train_dataset.batch(32).prefetch(tf.data.AUTOTUNE)\n",
        "valid_dataset = valid_dataset.batch(32).prefetch(tf.data.AUTOTUNE)\n",
        "test_dataset = test_dataset.batch(32).prefetch(tf.data.AUTOTUNE)\n",
        "\n",
        "train_dataset"
      ]
    },
    {
      "cell_type": "markdown",
      "metadata": {
        "id": "KSiEV8hIH_fd"
      },
      "source": [
        "## model 1: Conv 1D with token embeddings"
      ]
    },
    {
      "cell_type": "code",
      "execution_count": 48,
      "metadata": {
        "id": "uT0-j3G24QDA"
      },
      "outputs": [],
      "source": [
        "# Create 1D convolutional model to process sequences\n",
        "import tensorflow as tf\n",
        "from tensorflow.keras import layers\n",
        "\n",
        "inputs = layers.Input(shape=(1,), dtype=tf.string)\n",
        "text_vectors = text_vectorizer(inputs)\n",
        "\n",
        " # vectorize text inputs\n",
        "token_embeddings = token_embed(text_vectors)\n",
        "\n",
        "# create embedding\n",
        "x = layers.Conv1D(64, kernel_size=5, padding=\"same\", activation=\"relu\")(token_embeddings)\n",
        "x = layers.GlobalMaxPooling1D()(x)\n",
        "outputs = layers.Dense(num_classes, activation=\"softmax\")(x)\n",
        "model_1 = tf.keras.Model(inputs, outputs)\n",
        "\n",
        "# Compile\n",
        "model_1.compile(loss=\"categorical_crossentropy\", # if your labels are integer form (not one hot) use sparse_categorical_crossentropy\n",
        "                optimizer=tf.keras.optimizers.Adam(),\n",
        "                metrics=[\"accuracy\"])"
      ]
    },
    {
      "cell_type": "code",
      "execution_count": 49,
      "metadata": {
        "id": "0W_guTGRqyKR",
        "colab": {
          "base_uri": "https://localhost:8080/"
        },
        "outputId": "0f358336-5939-44de-9bc8-6eef8b709595"
      },
      "outputs": [
        {
          "output_type": "stream",
          "name": "stdout",
          "text": [
            "Model: \"model\"\n",
            "_________________________________________________________________\n",
            " Layer (type)                Output Shape              Param #   \n",
            "=================================================================\n",
            " input_1 (InputLayer)        [(None, 1)]               0         \n",
            "                                                                 \n",
            " text_vectorization (TextVec  (None, 55)               0         \n",
            " torization)                                                     \n",
            "                                                                 \n",
            " token_embedding (Embedding)  (None, 55, 256)          16599296  \n",
            "                                                                 \n",
            " conv1d (Conv1D)             (None, 55, 64)            81984     \n",
            "                                                                 \n",
            " global_max_pooling1d (Globa  (None, 64)               0         \n",
            " lMaxPooling1D)                                                  \n",
            "                                                                 \n",
            " dense (Dense)               (None, 5)                 325       \n",
            "                                                                 \n",
            "=================================================================\n",
            "Total params: 16,681,605\n",
            "Trainable params: 16,681,605\n",
            "Non-trainable params: 0\n",
            "_________________________________________________________________\n"
          ]
        }
      ],
      "source": [
        "# check the summary\n",
        "model_1.summary()"
      ]
    },
    {
      "cell_type": "code",
      "execution_count": 50,
      "metadata": {
        "id": "4S6dJhP0q1FS",
        "colab": {
          "base_uri": "https://localhost:8080/"
        },
        "outputId": "806848ac-6fab-4309-86b0-879c13cb61ba"
      },
      "outputs": [
        {
          "output_type": "stream",
          "name": "stdout",
          "text": [
            "Epoch 1/5\n",
            "562/562 [==============================] - 49s 70ms/step - loss: 0.7884 - accuracy: 0.7051 - val_loss: 0.5663 - val_accuracy: 0.7932\n",
            "Epoch 2/5\n",
            "562/562 [==============================] - 10s 18ms/step - loss: 0.5684 - accuracy: 0.7931 - val_loss: 0.5394 - val_accuracy: 0.8029\n",
            "Epoch 3/5\n",
            "562/562 [==============================] - 8s 13ms/step - loss: 0.5398 - accuracy: 0.8034 - val_loss: 0.5208 - val_accuracy: 0.8158\n",
            "Epoch 4/5\n",
            "562/562 [==============================] - 5s 9ms/step - loss: 0.5201 - accuracy: 0.8101 - val_loss: 0.5202 - val_accuracy: 0.8035\n",
            "Epoch 5/5\n",
            "562/562 [==============================] - 7s 13ms/step - loss: 0.5270 - accuracy: 0.8078 - val_loss: 0.4933 - val_accuracy: 0.8238\n"
          ]
        }
      ],
      "source": [
        "# Fit the model\n",
        "model_1_history = model_1.fit(train_dataset,\n",
        "                              steps_per_epoch=int(0.1 * len(train_dataset)), # only fit on 10% of batches for faster training time\n",
        "                              epochs=5,\n",
        "                              validation_data=valid_dataset,\n",
        "                              validation_steps=int(0.1 * len(valid_dataset))) # only validate on 10% of batches"
      ]
    },
    {
      "cell_type": "code",
      "execution_count": 51,
      "metadata": {
        "id": "8coXIvhfKonr"
      },
      "outputs": [],
      "source": [
        "# # Fit the model after changing pooling layer to Max from Average\n",
        "# # Fit the model\n",
        "# model_1_history = model_1.fit(train_dataset,\n",
        "#                               steps_per_epoch=int(0.1 * len(train_dataset)), # only fit on 10% of batches for faster training time\n",
        "#                               epochs=3,\n",
        "#                               validation_data=valid_dataset,\n",
        "#                               validation_steps=int(0.1 * len(valid_dataset))) # only validate on 10% of batches"
      ]
    },
    {
      "cell_type": "code",
      "execution_count": 52,
      "metadata": {
        "id": "OMJcBNc4q7bT",
        "colab": {
          "base_uri": "https://localhost:8080/"
        },
        "outputId": "65177c84-eed2-422a-9c6f-4e9ff726ce8b"
      },
      "outputs": [
        {
          "output_type": "stream",
          "name": "stdout",
          "text": [
            "945/945 [==============================] - 4s 4ms/step - loss: 0.4908 - accuracy: 0.8214\n"
          ]
        },
        {
          "output_type": "execute_result",
          "data": {
            "text/plain": [
              "[0.4907827079296112, 0.8213623762130737]"
            ]
          },
          "metadata": {},
          "execution_count": 52
        }
      ],
      "source": [
        "model_1.evaluate(valid_dataset)"
      ]
    },
    {
      "cell_type": "code",
      "execution_count": 53,
      "metadata": {
        "id": "74XTmOVG3P-y",
        "colab": {
          "base_uri": "https://localhost:8080/"
        },
        "outputId": "b6377ba3-5ac3-4f9c-c8f7-9611077a27cb"
      },
      "outputs": [
        {
          "output_type": "stream",
          "name": "stdout",
          "text": [
            "945/945 [==============================] - 3s 3ms/step\n"
          ]
        },
        {
          "output_type": "execute_result",
          "data": {
            "text/plain": [
              "array([[5.70305109e-01, 2.93247670e-01, 2.64201406e-03, 1.18925616e-01,\n",
              "        1.48796244e-02],\n",
              "       [5.40199459e-01, 3.87437999e-01, 3.76781728e-03, 5.94335571e-02,\n",
              "        9.16111935e-03],\n",
              "       [2.27396429e-01, 2.14430280e-02, 3.69136548e-03, 7.47197926e-01,\n",
              "        2.71213037e-04],\n",
              "       ...,\n",
              "       [2.58628541e-04, 8.68826290e-04, 3.21602705e-03, 4.54770052e-05,\n",
              "        9.95611012e-01],\n",
              "       [9.65725258e-03, 6.15392983e-01, 4.21808213e-02, 5.61985467e-03,\n",
              "        3.27149063e-01],\n",
              "       [3.23680565e-02, 9.50042784e-01, 1.31739452e-02, 2.08639074e-03,\n",
              "        2.32878607e-03]], dtype=float32)"
            ]
          },
          "metadata": {},
          "execution_count": 53
        }
      ],
      "source": [
        "# make prediction\n",
        "model_1_pred_probs = model_1.predict(valid_dataset)\n",
        "model_1_pred_probs"
      ]
    },
    {
      "cell_type": "code",
      "execution_count": 54,
      "metadata": {
        "id": "oAJeVqIz6gVF"
      },
      "outputs": [],
      "source": [
        "# convert perd prob to classes\n",
        "\n",
        "model_1_preds = tf.argmax(model_1_pred_probs, axis = 1)"
      ]
    },
    {
      "cell_type": "code",
      "execution_count": 55,
      "metadata": {
        "id": "vcPvMAI37xXN",
        "colab": {
          "base_uri": "https://localhost:8080/"
        },
        "outputId": "884072f3-03ae-45d4-a0b3-29c227f01487"
      },
      "outputs": [
        {
          "output_type": "execute_result",
          "data": {
            "text/plain": [
              "<tf.Tensor: shape=(30212,), dtype=int64, numpy=array([0, 0, 3, ..., 4, 1, 1])>"
            ]
          },
          "metadata": {},
          "execution_count": 55
        }
      ],
      "source": [
        "model_1_preds"
      ]
    },
    {
      "cell_type": "code",
      "execution_count": 56,
      "metadata": {
        "id": "0Nehwxsy8J5w"
      },
      "outputs": [],
      "source": [
        "# calcuate model_1 results\n",
        "\n",
        "model_1_results = calculate_results(val_labels_encoded,\n",
        "                                    model_1_preds)"
      ]
    },
    {
      "cell_type": "code",
      "execution_count": 57,
      "metadata": {
        "id": "Tu_kCJPn8L9O",
        "colab": {
          "base_uri": "https://localhost:8080/"
        },
        "outputId": "713968d4-2168-4e46-89f4-46947ee548fa"
      },
      "outputs": [
        {
          "output_type": "execute_result",
          "data": {
            "text/plain": [
              "{'accuracy': 82.13623725671918,\n",
              " 'precision': 0.8218226003526016,\n",
              " 'recall': 0.8213623725671918,\n",
              " 'f1': 0.8190584278324832}"
            ]
          },
          "metadata": {},
          "execution_count": 57
        }
      ],
      "source": [
        "model_1_results"
      ]
    },
    {
      "cell_type": "code",
      "execution_count": 58,
      "metadata": {
        "id": "6T6bD6fV8xCz",
        "colab": {
          "base_uri": "https://localhost:8080/"
        },
        "outputId": "c5646d10-ac47-40a3-fa35-ebe1dad68c93"
      },
      "outputs": [
        {
          "output_type": "execute_result",
          "data": {
            "text/plain": [
              "{'accuracy': 72.1832384482987,\n",
              " 'precision': 0.7186466952323352,\n",
              " 'recall': 0.7218323844829869,\n",
              " 'f1': 0.6989250353450294}"
            ]
          },
          "metadata": {},
          "execution_count": 58
        }
      ],
      "source": [
        "baseline_results"
      ]
    },
    {
      "cell_type": "markdown",
      "metadata": {
        "id": "7THIJSE7XNp9"
      },
      "source": [
        "## Model 2: Tf Hub pretrained Feature Extractor"
      ]
    },
    {
      "cell_type": "markdown",
      "metadata": {
        "id": "3yOsIhhWXxCF"
      },
      "source": [
        "use pretrained embedding sfrom tf hub, https://tfhub.dev/google/universal-sentence-encoder/4"
      ]
    },
    {
      "cell_type": "code",
      "execution_count": 59,
      "metadata": {
        "id": "d5mK8NaQZeRX"
      },
      "outputs": [],
      "source": [
        "# Download pretrained Tf Hub USE\n",
        "import tensorflow_hub as hub\n",
        "tf_hub_embedding_layer = hub.KerasLayer('https://tfhub.dev/google/universal-sentence-encoder/4',\n",
        "                                        trainable = False,\n",
        "                                        name = 'universal_sentance_encoder')"
      ]
    },
    {
      "cell_type": "code",
      "execution_count": 60,
      "metadata": {
        "id": "nJnVORExaDFq",
        "colab": {
          "base_uri": "https://localhost:8080/"
        },
        "outputId": "d707c227-5f69-41c6-eb01-55a65fe9599b"
      },
      "outputs": [
        {
          "output_type": "stream",
          "name": "stdout",
          "text": [
            "Random sentance is:\n",
            "in multicenter automatic defibrillator implantation trial-cardiac resynchronization therapy ( madit-crt ) , patients with non-left bundle branch block ( lbbb ; including right bundle branch block , intraventricular conduction delay ) did not have clinical benefit from cardiac resynchronization therapy with defibrillator ( crt-d ) .\n",
            "\n",
            "\n",
            "embedding sentance:\n",
            "[[-0.02954361  0.01312163 -0.05652559 -0.05961453 -0.02343416 -0.01790099\n",
            "   0.02599346 -0.06298763 -0.04236728  0.02193859  0.07513995 -0.06428581\n",
            "  -0.01997065  0.04068992  0.04031164 -0.01772623 -0.07522453  0.01610766\n",
            "  -0.0666067   0.06232039 -0.06526165  0.07035635  0.06363702 -0.06192433\n",
            "   0.00888849 -0.06039112 -0.0363439   0.01728014  0.00255951 -0.03683413\n",
            "   0.01725403  0.07522922  0.04791324  0.03663876  0.06690583 -0.03214416\n",
            "   0.07279749  0.03498173 -0.07458942 -0.06310283  0.0352575   0.0296352\n",
            "   0.02502146 -0.02021776  0.04746953  0.03572017 -0.04113674 -0.05787599\n",
            "  -0.06199196 -0.00737538 -0.06840455  0.01303563 -0.05713101  0.01663287\n",
            "  -0.01883045 -0.05742144 -0.00559076  0.0491245   0.0631963  -0.01099892\n",
            "  -0.00670523  0.03468047  0.01909956  0.03370633  0.02175607 -0.05322055\n",
            "   0.03609343 -0.01735064  0.00241375 -0.03981472 -0.04485752 -0.02192205\n",
            "   0.00541775 -0.05407181  0.0382813  -0.04436348  0.00851601 -0.03920267\n",
            "  -0.0392588  -0.04085631 -0.04335384  0.01343104  0.05347878  0.04984165\n",
            "  -0.06035765  0.05457806 -0.01852184 -0.03261573  0.05294646  0.05718733\n",
            "   0.0506471   0.01814762  0.00864667 -0.02765003  0.00053108  0.03803337\n",
            "  -0.02044181 -0.01237275 -0.02490222  0.03928242  0.04613955  0.04914179\n",
            "   0.07016012 -0.00547176 -0.02170598 -0.03110282  0.04530904 -0.02345809\n",
            "  -0.01635806 -0.04923398  0.00559123 -0.00093409  0.05718647 -0.03000019\n",
            "   0.03979406  0.02532335 -0.00390577  0.04221955  0.07207445  0.0282583\n",
            "  -0.07137097  0.0415433  -0.0134299   0.05955639  0.07246264  0.03263086\n",
            "  -0.07358359 -0.04836503 -0.01668881 -0.03056039 -0.07006397  0.07498331\n",
            "   0.07188714 -0.05083088 -0.0234895   0.03902234  0.06560413 -0.02516367\n",
            "  -0.02836845  0.04891147 -0.00295517  0.07316937 -0.05865807 -0.03234152\n",
            "  -0.05266469 -0.07215459 -0.05043621  0.01582274 -0.01839946 -0.06545935\n",
            "   0.02532999 -0.06842873 -0.02461925 -0.06884754  0.04893146  0.01778376\n",
            "   0.06913096  0.06634455 -0.05477052  0.0504422  -0.02070188  0.06134351\n",
            "  -0.06125202  0.06353453  0.03515866  0.01173146  0.0074142  -0.03632645\n",
            "  -0.00919432  0.06518377 -0.06902442 -0.07001133 -0.01489763  0.05574264\n",
            "   0.01676011 -0.03564822  0.02205303  0.06780475  0.04600872 -0.01375906\n",
            "  -0.06709489 -0.04100864 -0.0196299   0.04457702  0.01016947 -0.00385722\n",
            "  -0.02802419  0.04347112  0.05523365  0.00739493 -0.05254644 -0.04706609\n",
            "   0.02758888  0.04131267  0.01576911 -0.02271442  0.02437934 -0.06516699\n",
            "   0.01286667 -0.06050654  0.05225031  0.01577958 -0.0543507   0.06750572\n",
            "   0.03737426  0.01863637 -0.01540714 -0.04214936  0.05015846  0.06725398\n",
            "  -0.05629461 -0.04426044  0.03334163  0.01852629 -0.06739932  0.04789589\n",
            "   0.02414362 -0.01886381 -0.06769348  0.06831978 -0.01794743  0.00822775\n",
            "   0.06520673 -0.03823579  0.00297464  0.01047724  0.00576389  0.0326117\n",
            "   0.02890832  0.05292953 -0.01670755 -0.01974064 -0.01838435 -0.06785956\n",
            "   0.0677596  -0.07102375 -0.0053134  -0.00320912 -0.0679958  -0.04062968\n",
            "  -0.02978708 -0.02065438  0.03493846 -0.06501239 -0.05620819  0.05157567\n",
            "  -0.05033948  0.04338263  0.01931091 -0.07469581 -0.0520004   0.06053431\n",
            "   0.01240753  0.00765559  0.06278174 -0.04828738  0.05588989  0.07273376\n",
            "  -0.06666535  0.01948906  0.0438735  -0.0181522  -0.0179624   0.00998581\n",
            "  -0.04017119  0.04972116 -0.02430122  0.0076823  -0.02842737  0.06895885\n",
            "   0.01741644  0.06612024  0.04582635 -0.07167199 -0.02627188 -0.03996447\n",
            "   0.04572738  0.05741038  0.01830378 -0.0056778  -0.01980371  0.04558684\n",
            "   0.00911374  0.05479649 -0.01843423  0.02343699  0.04615971  0.00024878\n",
            "  -0.01112015  0.03563617  0.03078884 -0.00793792  0.00124002 -0.02449228\n",
            "  -0.01442771 -0.02576508  0.05324053 -0.02654632  0.06848483  0.0247096\n",
            "  -0.00422255  0.0096672  -0.00700644 -0.05169918  0.02262801 -0.05153508\n",
            "  -0.01704536 -0.00743684  0.04639603 -0.00434209 -0.07471298 -0.06115185\n",
            "  -0.00822643 -0.05710965 -0.02759399 -0.05704113 -0.04051855 -0.03867451\n",
            "   0.00280266 -0.06564526 -0.07188585 -0.06963467 -0.00136279 -0.0531377\n",
            "   0.04213126  0.04249659  0.03479305  0.01560925  0.0734045  -0.00318722\n",
            "   0.03155586  0.00948917  0.02450203  0.05988166  0.06127631  0.0663949\n",
            "   0.05332258 -0.00993241  0.02083314 -0.03316955 -0.07190111 -0.06526815\n",
            "   0.07016972  0.04149942 -0.03077976  0.06712043 -0.01382437 -0.01898427\n",
            "   0.05142573 -0.01016249  0.03771126  0.00630708 -0.04183925  0.02673222\n",
            "   0.05007682  0.03812802 -0.05347915  0.04003099  0.00407702  0.0216294\n",
            "   0.03157219 -0.04907813 -0.07191861 -0.02652195  0.01792601  0.06420052\n",
            "   0.01680331 -0.0103637  -0.00442542 -0.00758578  0.02781772 -0.02539519\n",
            "   0.02596814 -0.06810625  0.0428454  -0.0057087   0.01994188 -0.07127514\n",
            "   0.00896024 -0.0657867  -0.02635598  0.00558454 -0.07074551 -0.01789426\n",
            "   0.05561604 -0.06891154 -0.04442784  0.06290986 -0.02180013 -0.05984425\n",
            "   0.02550583  0.01718211  0.02272282  0.01650292  0.01693932  0.0278853\n",
            "   0.0732723  -0.03100674  0.07233125 -0.01390918  0.07285387  0.04367215\n",
            "  -0.03884074 -0.02638927  0.04935345 -0.07143475  0.03185469 -0.03042805\n",
            "   0.0705418   0.02407893  0.02665108 -0.06174833 -0.0278823  -0.00288731\n",
            "  -0.00110202 -0.01954703  0.04750548  0.0206583   0.03590796 -0.05549358\n",
            "  -0.06028832  0.02731653  0.05246884  0.02222487 -0.03074492 -0.05781864\n",
            "  -0.01523896  0.01030278  0.05954651  0.03220411 -0.06636292  0.05074248\n",
            "  -0.04707452 -0.0287487  -0.0107829   0.03287561 -0.03757589  0.00580448\n",
            "  -0.06004379  0.0315661  -0.06020157 -0.02925381 -0.05666642  0.03250067\n",
            "  -0.01928044 -0.06847097 -0.06919783  0.0636282  -0.0457162   0.03958048\n",
            "  -0.06840067 -0.04648225  0.07042615  0.06578996  0.04668751 -0.03445585\n",
            "  -0.05908018  0.0637221   0.0495697  -0.01213046 -0.03055035  0.04177198\n",
            "   0.04983097 -0.03691026 -0.04456589 -0.05166463  0.0048335  -0.04913116\n",
            "  -0.05955536 -0.06632333  0.07157396  0.05100891 -0.07253642  0.04602204\n",
            "   0.00154264  0.05412939 -0.012395    0.03642057 -0.0607711   0.0378975\n",
            "  -0.06796827  0.01355482  0.02118946 -0.01685563  0.03931291  0.03114606\n",
            "  -0.04969126 -0.06879924 -0.06394827  0.01800388 -0.04491058  0.03505695\n",
            "   0.01845803 -0.06626666  0.06503138  0.04943751 -0.04279504 -0.0127164\n",
            "  -0.04871982  0.03077677  0.03202292 -0.07034256  0.00662457 -0.07399494\n",
            "   0.00302107 -0.07522736  0.04688509 -0.01404017  0.02721532  0.02654341\n",
            "  -0.06640106 -0.05100488]]\n",
            "\n",
            "\n",
            "(1, 512)\n"
          ]
        }
      ],
      "source": [
        "# Test out the pretrained embedding on a random sentance\n",
        "\n",
        "random_train_sentance = random.choice(train_sentances)\n",
        "\n",
        "print(f'Random sentance is:\\n{random_train_sentance}\\n\\n')\n",
        "print(f\"embedding sentance:\\n{tf_hub_embedding_layer([random_train_sentance])}\\n\\n\")\n",
        "print(tf_hub_embedding_layer([random_train_sentance]).shape)\n"
      ]
    },
    {
      "cell_type": "markdown",
      "metadata": {
        "id": "7v4Z3k7WaYPP"
      },
      "source": [
        "### build model with pretrained tf hub models\n"
      ]
    },
    {
      "cell_type": "code",
      "execution_count": 61,
      "metadata": {
        "id": "JXFvv7mJb-RZ"
      },
      "outputs": [],
      "source": [
        "# define feature extraction layers\n",
        "inputs = layers.Input(shape = [], dtype = tf.string)\n",
        "\n",
        "pretrained_embedding = tf_hub_embedding_layer(inputs)\n",
        "\n",
        "x = layers.Dense(128, activation = 'relu')(pretrained_embedding)\n",
        "\n",
        "outputs = layers.Dense(num_classes, activation = 'softmax')(x)\n",
        "\n",
        "model_2 = tf.keras.Model(inputs,\n",
        "                         outputs,\n",
        "                         name = 'model_2_feature_extractor')\n",
        "\n",
        "\n",
        "# compile a model\n",
        "model_2.compile(loss = 'categorical_crossentropy',\n",
        "                optimizer = tf.keras.optimizers.Adam(),\n",
        "                metrics = ['accuracy'])"
      ]
    },
    {
      "cell_type": "code",
      "execution_count": 62,
      "metadata": {
        "id": "u7hkuaHPdQUV",
        "colab": {
          "base_uri": "https://localhost:8080/"
        },
        "outputId": "a7767ce8-672c-47f5-ec35-a16553ffdf8a"
      },
      "outputs": [
        {
          "output_type": "stream",
          "name": "stdout",
          "text": [
            "Model: \"model_2_feature_extractor\"\n",
            "_________________________________________________________________\n",
            " Layer (type)                Output Shape              Param #   \n",
            "=================================================================\n",
            " input_2 (InputLayer)        [(None,)]                 0         \n",
            "                                                                 \n",
            " universal_sentance_encoder   (None, 512)              256797824 \n",
            " (KerasLayer)                                                    \n",
            "                                                                 \n",
            " dense_1 (Dense)             (None, 128)               65664     \n",
            "                                                                 \n",
            " dense_2 (Dense)             (None, 5)                 645       \n",
            "                                                                 \n",
            "=================================================================\n",
            "Total params: 256,864,133\n",
            "Trainable params: 66,309\n",
            "Non-trainable params: 256,797,824\n",
            "_________________________________________________________________\n"
          ]
        }
      ],
      "source": [
        "model_2.summary()"
      ]
    },
    {
      "cell_type": "code",
      "execution_count": 63,
      "metadata": {
        "id": "mwmglX-BdSwX",
        "colab": {
          "base_uri": "https://localhost:8080/"
        },
        "outputId": "9fc7e400-c0e9-409a-bd55-8b4136b6f128"
      },
      "outputs": [
        {
          "output_type": "stream",
          "name": "stdout",
          "text": [
            "Epoch 1/5\n",
            "562/562 [==============================] - 13s 18ms/step - loss: 0.9117 - accuracy: 0.6525 - val_loss: 0.7972 - val_accuracy: 0.6888\n",
            "Epoch 2/5\n",
            "562/562 [==============================] - 10s 17ms/step - loss: 0.7688 - accuracy: 0.7026 - val_loss: 0.7549 - val_accuracy: 0.7081\n",
            "Epoch 3/5\n",
            "562/562 [==============================] - 10s 17ms/step - loss: 0.7524 - accuracy: 0.7121 - val_loss: 0.7383 - val_accuracy: 0.7088\n",
            "Epoch 4/5\n",
            "562/562 [==============================] - 8s 15ms/step - loss: 0.7178 - accuracy: 0.7245 - val_loss: 0.7098 - val_accuracy: 0.7281\n",
            "Epoch 5/5\n",
            "562/562 [==============================] - 10s 18ms/step - loss: 0.7259 - accuracy: 0.7205 - val_loss: 0.6890 - val_accuracy: 0.7377\n"
          ]
        }
      ],
      "source": [
        "# fit the model\n",
        "model_2_history = model_2.fit(train_dataset,\n",
        "                              steps_per_epoch = int(0.1 * len(train_dataset)),\n",
        "                              epochs = 5,\n",
        "                              validation_data = valid_dataset,\n",
        "                              validation_steps = int(0.1 * len(valid_dataset)))"
      ]
    },
    {
      "cell_type": "code",
      "execution_count": 64,
      "metadata": {
        "id": "ZjegAeyIdqYO",
        "colab": {
          "base_uri": "https://localhost:8080/"
        },
        "outputId": "0a12463d-dfc2-44b4-f558-7dc1d6892d7f"
      },
      "outputs": [
        {
          "output_type": "stream",
          "name": "stdout",
          "text": [
            "945/945 [==============================] - 12s 13ms/step - loss: 0.6977 - accuracy: 0.7348\n"
          ]
        },
        {
          "output_type": "execute_result",
          "data": {
            "text/plain": [
              "[0.6977499723434448, 0.734840452671051]"
            ]
          },
          "metadata": {},
          "execution_count": 64
        }
      ],
      "source": [
        "# evaluate the model\n",
        "model_2.evaluate(valid_dataset)"
      ]
    },
    {
      "cell_type": "code",
      "execution_count": 65,
      "metadata": {
        "id": "kjNGmg79eAXR",
        "colab": {
          "base_uri": "https://localhost:8080/"
        },
        "outputId": "f248e368-4faf-4cbc-97b2-96351dd500a2"
      },
      "outputs": [
        {
          "output_type": "stream",
          "name": "stdout",
          "text": [
            "945/945 [==============================] - 12s 12ms/step\n"
          ]
        },
        {
          "output_type": "execute_result",
          "data": {
            "text/plain": [
              "array([[6.6706955e-01, 2.0900741e-01, 3.5958532e-03, 1.1249944e-01,\n",
              "        7.8277141e-03],\n",
              "       [4.3551680e-01, 4.8532429e-01, 7.0009236e-03, 7.0352174e-02,\n",
              "        1.8059406e-03],\n",
              "       [3.5700893e-01, 7.5000241e-02, 4.6683520e-02, 4.7471246e-01,\n",
              "        4.6594810e-02],\n",
              "       ...,\n",
              "       [2.4003005e-03, 2.5550285e-03, 1.3548528e-01, 5.8847922e-04,\n",
              "        8.5897094e-01],\n",
              "       [3.1072018e-03, 2.3909671e-02, 4.8774323e-01, 8.9063583e-04,\n",
              "        4.8434925e-01],\n",
              "       [2.1382894e-01, 3.2819769e-01, 4.1519701e-01, 2.3330934e-03,\n",
              "        4.0443260e-02]], dtype=float32)"
            ]
          },
          "metadata": {},
          "execution_count": 65
        }
      ],
      "source": [
        "# make predictions with feature extraction model\n",
        "\n",
        "model_2_pred_probs = model_2.predict(valid_dataset)\n",
        "model_2_pred_probs"
      ]
    },
    {
      "cell_type": "code",
      "execution_count": 66,
      "metadata": {
        "id": "9vems5Fvp00P",
        "colab": {
          "base_uri": "https://localhost:8080/"
        },
        "outputId": "91a0c3bc-d2bd-479c-fdc0-f4a71e61410d"
      },
      "outputs": [
        {
          "output_type": "execute_result",
          "data": {
            "text/plain": [
              "<tf.Tensor: shape=(30212,), dtype=int64, numpy=array([0, 1, 3, ..., 4, 2, 2])>"
            ]
          },
          "metadata": {},
          "execution_count": 66
        }
      ],
      "source": [
        "model_2_pred = tf.argmax(model_2_pred_probs, axis = 1)\n",
        "model_2_pred"
      ]
    },
    {
      "cell_type": "code",
      "execution_count": 67,
      "metadata": {
        "id": "G06OdxPdrkfp"
      },
      "outputs": [],
      "source": [
        "# calculate results\n",
        "\n",
        "model_2_results = calculate_results(val_labels_encoded,\n",
        "                                    model_2_pred)"
      ]
    },
    {
      "cell_type": "code",
      "execution_count": 68,
      "metadata": {
        "id": "XNXTpUKGrvAD",
        "colab": {
          "base_uri": "https://localhost:8080/"
        },
        "outputId": "bea4b989-ee81-412d-b9f2-b6c94b27f8ec"
      },
      "outputs": [
        {
          "output_type": "execute_result",
          "data": {
            "text/plain": [
              "{'accuracy': 73.48404607440752,\n",
              " 'precision': 0.7311324733648183,\n",
              " 'recall': 0.7348404607440752,\n",
              " 'f1': 0.7294039269918708}"
            ]
          },
          "metadata": {},
          "execution_count": 68
        }
      ],
      "source": [
        "model_2_results"
      ]
    },
    {
      "cell_type": "markdown",
      "metadata": {
        "id": "a3H0xKbIrwph"
      },
      "source": [
        "## model 3: character embeddings Conv1D\n",
        "Rather than token we'll do character level embedding"
      ]
    },
    {
      "cell_type": "markdown",
      "metadata": {
        "id": "J_--7HK194Ea"
      },
      "source": [
        "Token vs Character level Embedding\n",
        "---\n",
        "I Love Tensorflow will become\n",
        "I L o v e T e s o r f l o w"
      ]
    },
    {
      "cell_type": "markdown",
      "metadata": {
        "id": "rY8xOdc7-HoT"
      },
      "source": [
        "### Create a character level Embedding"
      ]
    },
    {
      "cell_type": "code",
      "execution_count": 69,
      "metadata": {
        "id": "UdJPYohrBytv",
        "colab": {
          "base_uri": "https://localhost:8080/"
        },
        "outputId": "02468043-0aab-48bc-a1c6-34314db88d3b"
      },
      "outputs": [
        {
          "output_type": "execute_result",
          "data": {
            "text/plain": [
              "['to investigate the efficacy of @ weeks of daily low-dose oral prednisolone in improving pain , mobility , and systemic low-grade inflammation in the short term and whether the effect would be sustained at @ weeks in older adults with moderate to severe knee osteoarthritis ( oa ) .',\n",
              " 'a total of @ patients with primary knee oa were randomized @:@ ; @ received @ mg/day of prednisolone and @ received placebo for @ weeks .',\n",
              " 'outcome measures included pain reduction and improvement in function scores and systemic inflammation markers .',\n",
              " 'pain was assessed using the visual analog pain scale ( @-@ mm ) .',\n",
              " 'secondary outcome measures included the western ontario and mcmaster universities osteoarthritis index scores , patient global assessment ( pga ) of the severity of knee oa , and @-min walk distance ( @mwd ) .']"
            ]
          },
          "metadata": {},
          "execution_count": 69
        }
      ],
      "source": [
        "train_sentances[:5]"
      ]
    },
    {
      "cell_type": "code",
      "execution_count": 70,
      "metadata": {
        "id": "8kOOn1TTB1R9",
        "colab": {
          "base_uri": "https://localhost:8080/",
          "height": 91
        },
        "outputId": "c0bc098d-4df7-4db4-dedc-8d002020ce79"
      },
      "outputs": [
        {
          "output_type": "execute_result",
          "data": {
            "text/plain": [
              "'i n   m u l t i c e n t e r   a u t o m a t i c   d e f i b r i l l a t o r   i m p l a n t a t i o n   t r i a l - c a r d i a c   r e s y n c h r o n i z a t i o n   t h e r a p y   (   m a d i t - c r t   )   ,   p a t i e n t s   w i t h   n o n - l e f t   b u n d l e   b r a n c h   b l o c k   (   l b b b   ;   i n c l u d i n g   r i g h t   b u n d l e   b r a n c h   b l o c k   ,   i n t r a v e n t r i c u l a r   c o n d u c t i o n   d e l a y   )   d i d   n o t   h a v e   c l i n i c a l   b e n e f i t   f r o m   c a r d i a c   r e s y n c h r o n i z a t i o n   t h e r a p y   w i t h   d e f i b r i l l a t o r   (   c r t - d   )   .'"
            ],
            "application/vnd.google.colaboratory.intrinsic+json": {
              "type": "string"
            }
          },
          "metadata": {},
          "execution_count": 70
        }
      ],
      "source": [
        "# make function to split sentances into characters\n",
        "def split_chars(text):\n",
        "  return ' '.join(list(text))\n",
        "\n",
        "# text splittin non character level squence into characters\n",
        "split_chars(random_train_sentance)"
      ]
    },
    {
      "cell_type": "code",
      "execution_count": 71,
      "metadata": {
        "id": "NvXBRpRQCA15"
      },
      "outputs": [],
      "source": [
        "train_chars = [split_chars(sentance) for sentance in train_sentances]\n",
        "val_chars = [split_chars(sentance) for sentance in val_sentances]\n",
        "test_chars = [split_chars(sentance) for sentance in test_sentances]"
      ]
    },
    {
      "cell_type": "code",
      "execution_count": 72,
      "metadata": {
        "id": "lv5o548pCE_6",
        "colab": {
          "base_uri": "https://localhost:8080/"
        },
        "outputId": "53e1d5f7-5d23-4795-9624-1bf91f3a5bcf"
      },
      "outputs": [
        {
          "output_type": "execute_result",
          "data": {
            "text/plain": [
              "['t o   i n v e s t i g a t e   t h e   e f f i c a c y   o f   @   w e e k s   o f   d a i l y   l o w - d o s e   o r a l   p r e d n i s o l o n e   i n   i m p r o v i n g   p a i n   ,   m o b i l i t y   ,   a n d   s y s t e m i c   l o w - g r a d e   i n f l a m m a t i o n   i n   t h e   s h o r t   t e r m   a n d   w h e t h e r   t h e   e f f e c t   w o u l d   b e   s u s t a i n e d   a t   @   w e e k s   i n   o l d e r   a d u l t s   w i t h   m o d e r a t e   t o   s e v e r e   k n e e   o s t e o a r t h r i t i s   (   o a   )   .',\n",
              " 'a   t o t a l   o f   @   p a t i e n t s   w i t h   p r i m a r y   k n e e   o a   w e r e   r a n d o m i z e d   @ : @   ;   @   r e c e i v e d   @   m g / d a y   o f   p r e d n i s o l o n e   a n d   @   r e c e i v e d   p l a c e b o   f o r   @   w e e k s   .',\n",
              " 'o u t c o m e   m e a s u r e s   i n c l u d e d   p a i n   r e d u c t i o n   a n d   i m p r o v e m e n t   i n   f u n c t i o n   s c o r e s   a n d   s y s t e m i c   i n f l a m m a t i o n   m a r k e r s   .',\n",
              " 'p a i n   w a s   a s s e s s e d   u s i n g   t h e   v i s u a l   a n a l o g   p a i n   s c a l e   (   @ - @   m m   )   .',\n",
              " 's e c o n d a r y   o u t c o m e   m e a s u r e s   i n c l u d e d   t h e   w e s t e r n   o n t a r i o   a n d   m c m a s t e r   u n i v e r s i t i e s   o s t e o a r t h r i t i s   i n d e x   s c o r e s   ,   p a t i e n t   g l o b a l   a s s e s s m e n t   (   p g a   )   o f   t h e   s e v e r i t y   o f   k n e e   o a   ,   a n d   @ - m i n   w a l k   d i s t a n c e   (   @ m w d   )   .']"
            ]
          },
          "metadata": {},
          "execution_count": 72
        }
      ],
      "source": [
        "train_chars[:5]"
      ]
    },
    {
      "cell_type": "code",
      "execution_count": 73,
      "metadata": {
        "id": "dNWJzk47DxU5",
        "colab": {
          "base_uri": "https://localhost:8080/"
        },
        "outputId": "ae90653a-c0c4-4dc5-991a-5218114694f8"
      },
      "outputs": [
        {
          "output_type": "execute_result",
          "data": {
            "text/plain": [
              "149.3662574983337"
            ]
          },
          "metadata": {},
          "execution_count": 73
        }
      ],
      "source": [
        "char_lens = [len(sentance) for sentance in train_sentances]\n",
        "mean_char_len = np.mean(char_lens)\n",
        "mean_char_len\n"
      ]
    },
    {
      "cell_type": "code",
      "execution_count": 74,
      "metadata": {
        "id": "XG3av35aEGhi",
        "colab": {
          "base_uri": "https://localhost:8080/",
          "height": 707
        },
        "outputId": "ab26d33e-4207-4665-8678-21fb5b434177"
      },
      "outputs": [
        {
          "output_type": "execute_result",
          "data": {
            "text/plain": [
              "(array([7.8590e+03, 3.5206e+04, 4.9626e+04, 4.0112e+04, 2.4025e+04,\n",
              "        1.2206e+04, 5.8610e+03, 2.5790e+03, 1.2490e+03, 6.2200e+02,\n",
              "        3.1400e+02, 1.5300e+02, 8.8000e+01, 5.1000e+01, 2.8000e+01,\n",
              "        1.7000e+01, 1.7000e+01, 8.0000e+00, 5.0000e+00, 6.0000e+00,\n",
              "        2.0000e+00, 1.0000e+00, 0.0000e+00, 2.0000e+00, 1.0000e+00,\n",
              "        1.0000e+00, 0.0000e+00, 0.0000e+00, 0.0000e+00, 1.0000e+00]),\n",
              " array([1.00000000e+00, 4.71666667e+01, 9.33333333e+01, 1.39500000e+02,\n",
              "        1.85666667e+02, 2.31833333e+02, 2.78000000e+02, 3.24166667e+02,\n",
              "        3.70333333e+02, 4.16500000e+02, 4.62666667e+02, 5.08833333e+02,\n",
              "        5.55000000e+02, 6.01166667e+02, 6.47333333e+02, 6.93500000e+02,\n",
              "        7.39666667e+02, 7.85833333e+02, 8.32000000e+02, 8.78166667e+02,\n",
              "        9.24333333e+02, 9.70500000e+02, 1.01666667e+03, 1.06283333e+03,\n",
              "        1.10900000e+03, 1.15516667e+03, 1.20133333e+03, 1.24750000e+03,\n",
              "        1.29366667e+03, 1.33983333e+03, 1.38600000e+03]),\n",
              " <BarContainer object of 30 artists>)"
            ]
          },
          "metadata": {},
          "execution_count": 74
        },
        {
          "output_type": "display_data",
          "data": {
            "text/plain": [
              "<Figure size 640x480 with 1 Axes>"
            ],
            "image/png": "[encoded data removed]"
          },
          "metadata": {}
        }
      ],
      "source": [
        "# check the distribution of characters\n",
        "import matplotlib.pyplot as plt\n",
        "plt.hist(char_lens, bins = 30)"
      ]
    },
    {
      "cell_type": "code",
      "execution_count": 75,
      "metadata": {
        "id": "yx-KZ7O1ENP9",
        "colab": {
          "base_uri": "https://localhost:8080/"
        },
        "outputId": "4ba8d5e4-5247-449f-8c7e-842188ae2bee"
      },
      "outputs": [
        {
          "output_type": "execute_result",
          "data": {
            "text/plain": [
              "290"
            ]
          },
          "metadata": {},
          "execution_count": 75
        }
      ],
      "source": [
        "# Find what character length covers 95% of sequences\n",
        "output_seq_char_len = int(np.percentile(char_lens, 95))\n",
        "output_seq_char_len"
      ]
    },
    {
      "cell_type": "code",
      "execution_count": 76,
      "metadata": {
        "id": "5QKQ4JpVFWTY",
        "colab": {
          "base_uri": "https://localhost:8080/",
          "height": 91
        },
        "outputId": "f92f6612-4115-4560-fd4a-c757df310280"
      },
      "outputs": [
        {
          "output_type": "execute_result",
          "data": {
            "text/plain": [
              "'in this cohort at @ months , those given prasugrel experienced significantly fewer ischemic events ( cardiovascular death , non-fatal myocardial infarction , or non-fatal stroke , @ % vs @ % , hazard ratio ( hr ) = @ , p < @ , than those given clopidogrel , with a non-significant increase in non-coronary artery bypass graft ( cabg ) timi major bleeding , @ % vs @ % , hr = @ , p = @ ; similarly , in the overall cohort these frequencies were @ % vs @ % , hr = @ , p < @ , for cardiovascular death , non-fatal myocardial infarction , or non-fatal stroke , and @ % vs @ % , hr = @ , p = @ , for non-cabg timi major bleeding .'"
            ],
            "application/vnd.google.colaboratory.intrinsic+json": {
              "type": "string"
            }
          },
          "metadata": {},
          "execution_count": 76
        }
      ],
      "source": [
        "# Get all ketboard characters\n",
        "random.choice(train_sentances)"
      ]
    },
    {
      "cell_type": "code",
      "execution_count": 77,
      "metadata": {
        "id": "S4ebHzZqFsaJ",
        "colab": {
          "base_uri": "https://localhost:8080/",
          "height": 36
        },
        "outputId": "e93c7efc-2f97-40dc-ef6f-6c2e6883feb2"
      },
      "outputs": [
        {
          "output_type": "execute_result",
          "data": {
            "text/plain": [
              "'abcdefghijklmnopqrstuvwxyz0123456789!\"#$%&\\'()*+,-./:;<=>?@[\\\\]^_`{|}~'"
            ],
            "application/vnd.google.colaboratory.intrinsic+json": {
              "type": "string"
            }
          },
          "metadata": {},
          "execution_count": 77
        }
      ],
      "source": [
        "import string\n",
        "alphabet = string.ascii_lowercase + string.digits + string.punctuation\n",
        "alphabet"
      ]
    },
    {
      "cell_type": "code",
      "execution_count": 78,
      "metadata": {
        "id": "SDg7zxEVF7LO"
      },
      "outputs": [],
      "source": [
        "# create char- level token vectorizer instance\n",
        "\n",
        "NUM_CHAR_TOKENS = len(alphabet) + 2\n",
        "char_vectorizer = TextVectorization(max_tokens = NUM_CHAR_TOKENS,\n",
        "                                    output_sequence_length = output_seq_char_len,\n",
        "                                    standardize = None,\n",
        "                                    name = 'char_vectorizer')"
      ]
    },
    {
      "cell_type": "code",
      "execution_count": 79,
      "metadata": {
        "id": "o2VwJ3-QIYTM"
      },
      "outputs": [],
      "source": [
        "# Adapt character char vectorizer to training character\n",
        "char_vectorizer.adapt(train_chars)"
      ]
    },
    {
      "cell_type": "code",
      "execution_count": 80,
      "metadata": {
        "id": "xb7Ys3c5Ihjs",
        "colab": {
          "base_uri": "https://localhost:8080/"
        },
        "outputId": "e7569b7c-5c55-4d47-db62-51364da68789"
      },
      "outputs": [
        {
          "output_type": "execute_result",
          "data": {
            "text/plain": [
              "['',\n",
              " '[UNK]',\n",
              " 'e',\n",
              " 't',\n",
              " 'i',\n",
              " 'a',\n",
              " 'n',\n",
              " 'o',\n",
              " 'r',\n",
              " 's',\n",
              " 'd',\n",
              " 'c',\n",
              " 'l',\n",
              " 'h',\n",
              " 'p',\n",
              " 'm',\n",
              " 'u',\n",
              " 'f',\n",
              " 'g',\n",
              " '@',\n",
              " 'y',\n",
              " 'w',\n",
              " 'v',\n",
              " 'b',\n",
              " ',',\n",
              " '.',\n",
              " '-',\n",
              " ')',\n",
              " '(',\n",
              " 'k',\n",
              " 'x',\n",
              " '%',\n",
              " 'z',\n",
              " '=',\n",
              " 'q',\n",
              " '/',\n",
              " ';',\n",
              " 'j',\n",
              " ':',\n",
              " '<',\n",
              " \"'\",\n",
              " '+',\n",
              " '`',\n",
              " '>',\n",
              " '$',\n",
              " '&',\n",
              " '*',\n",
              " '~',\n",
              " '?',\n",
              " '#',\n",
              " '_',\n",
              " '!',\n",
              " '|',\n",
              " '\"',\n",
              " ']',\n",
              " '\\\\',\n",
              " '[']"
            ]
          },
          "metadata": {},
          "execution_count": 80
        }
      ],
      "source": [
        "char_vocab = char_vectorizer.get_vocabulary()\n",
        "char_vocab"
      ]
    },
    {
      "cell_type": "code",
      "execution_count": 81,
      "metadata": {
        "id": "eYwZ5RjwKK_T"
      },
      "outputs": [],
      "source": [
        "### creating character level embedding\n",
        "char_embed   = layers.Embedding(input_dim = len(char_vocab),\n",
        "                                output_dim = 25,\n",
        "                                mask_zero = True,\n",
        "                                name = \"char_embed\")"
      ]
    },
    {
      "cell_type": "code",
      "execution_count": 82,
      "metadata": {
        "id": "RqX8zu_livMs",
        "colab": {
          "base_uri": "https://localhost:8080/"
        },
        "outputId": "3fb445c3-6cba-411c-cb56-20e46123907d"
      },
      "outputs": [
        {
          "output_type": "stream",
          "name": "stdout",
          "text": [
            "Characterized sentance : \n",
            "t h e s e   f i n d i n g s   s u g g e s t   t h a t   t h e   d r u g   c o u l d   b e   e f f e c t i v e   f o r   t r e a t m e n t   o f   p a t i e n t s   w i t h   r e f l u x   d i s e a s e   a n d   f u n c t i o n a l   d y s p e p s i a   .\n",
            "\n",
            "Len of sentance:109\n",
            "\n",
            "Embedded sentance : \n",
            "[ 3 13  2  9  2 17  4  6 10  4  6 18  9  9 16 18 18  2  9  3  3 13  5  3\n",
            "  3 13  2 10  8 16 18 11  7 16 12 10 23  2  2 17 17  2 11  3  4 22  2 17\n",
            "  7  8  3  8  2  5  3 15  2  6  3  7 17 14  5  3  4  2  6  3  9 21  4  3\n",
            " 13  8  2 17 12 16 30 10  4  9  2  5  9  2  5  6 10 17 16  6 11  3  4  7\n",
            "  6  5 12 10 20  9 14  2 14  9  4  5 25  0  0  0  0  0  0  0  0  0  0  0\n",
            "  0  0  0  0  0  0  0  0  0  0  0  0  0  0  0  0  0  0  0  0  0  0  0  0\n",
            "  0  0  0  0  0  0  0  0  0  0  0  0  0  0  0  0  0  0  0  0  0  0  0  0\n",
            "  0  0  0  0  0  0  0  0  0  0  0  0  0  0  0  0  0  0  0  0  0  0  0  0\n",
            "  0  0  0  0  0  0  0  0  0  0  0  0  0  0  0  0  0  0  0  0  0  0  0  0\n",
            "  0  0  0  0  0  0  0  0  0  0  0  0  0  0  0  0  0  0  0  0  0  0  0  0\n",
            "  0  0  0  0  0  0  0  0  0  0  0  0  0  0  0  0  0  0  0  0  0  0  0  0\n",
            "  0  0  0  0  0  0  0  0  0  0  0  0  0  0  0  0  0  0  0  0  0  0  0  0\n",
            "  0  0]\n",
            "\n",
            "len of embedded sentance(Preset): 290\n",
            "\n",
            "embedded char sentance:\n",
            "[[ 0.02518642  0.03372474  0.0441681  ... -0.01229145  0.04984296\n",
            "   0.03601415]\n",
            " [ 0.04113472  0.02686945 -0.03152847 ...  0.0051852  -0.00620576\n",
            "  -0.0014502 ]\n",
            " [-0.04069484 -0.04964582 -0.00681541 ... -0.03856739  0.01564575\n",
            "  -0.0121206 ]\n",
            " ...\n",
            " [ 0.01500714 -0.02241414 -0.01140893 ... -0.04234483  0.00461451\n",
            "   0.02969148]\n",
            " [ 0.01500714 -0.02241414 -0.01140893 ... -0.04234483  0.00461451\n",
            "   0.02969148]\n",
            " [ 0.01500714 -0.02241414 -0.01140893 ... -0.04234483  0.00461451\n",
            "   0.02969148]]\n",
            "\n",
            "shape of embedded char sentance:(290, 25)\n"
          ]
        }
      ],
      "source": [
        "# Test our character embedding layer\n",
        "\n",
        "random_sent = random.choice(train_chars)\n",
        "\n",
        "\n",
        "print(f\"Characterized sentance : \\n{random_sent}\\n\")\n",
        "print(f\"Len of sentance:{len(random_sent.split())}\\n\")\n",
        "print(f\"Embedded sentance : \\n{char_vectorizer(random_sent)}\\n\")\n",
        "print(f'len of embedded sentance(Preset): {len(char_vectorizer(random_sent))}\\n')\n",
        "\n",
        "print(f\"embedded char sentance:\\n{char_embed(char_vectorizer(random_sent))}\\n\")\n",
        "print(f\"shape of embedded char sentance:{char_embed(char_vectorizer(random_sent)).shape}\")"
      ]
    },
    {
      "cell_type": "markdown",
      "metadata": {
        "id": "xNiWk7orjF05"
      },
      "source": [
        "### Build a COnv1D model to fit on character embeddings\n"
      ]
    },
    {
      "cell_type": "code",
      "execution_count": 83,
      "metadata": {
        "id": "gTY5NDfrmMQO"
      },
      "outputs": [],
      "source": [
        "# make Conv1D on Chars only\n",
        "\n",
        "inputs = layers.Input(shape = (1,), dtype = 'string')\n",
        "\n",
        "char_vectors = char_vectorizer(inputs)\n",
        "char_embeddings = char_embed(char_vectors)\n",
        "\n",
        "x = layers.Conv1D(128, kernel_size = 5, padding = 'same', activation = 'relu')(char_embeddings)\n",
        "x = layers.GlobalMaxPooling1D()(x)\n",
        "outputs = layers.Dense(num_classes, activation = 'softmax')(x)\n",
        "model_3 = tf.keras.Model(inputs,\n",
        "                         outputs,\n",
        "                         name = 'model_3_conv1d_char_embeddings')\n",
        "\n",
        "# compile the model\n",
        "model_3.compile(loss = 'categorical_crossentropy',\n",
        "                optimizer = tf.keras.optimizers.Adam(),\n",
        "                metrics= ['accuracy'])\n",
        "\n"
      ]
    },
    {
      "cell_type": "code",
      "execution_count": 84,
      "metadata": {
        "id": "XxAnlFkhICce",
        "colab": {
          "base_uri": "https://localhost:8080/"
        },
        "outputId": "15c72b3e-e9ed-4477-92f1-1f0b682c42ef"
      },
      "outputs": [
        {
          "output_type": "stream",
          "name": "stdout",
          "text": [
            "Model: \"model_3_conv1d_char_embeddings\"\n",
            "_________________________________________________________________\n",
            " Layer (type)                Output Shape              Param #   \n",
            "=================================================================\n",
            " input_3 (InputLayer)        [(None, 1)]               0         \n",
            "                                                                 \n",
            " char_vectorizer (TextVector  (None, 290)              0         \n",
            " ization)                                                        \n",
            "                                                                 \n",
            " char_embed (Embedding)      (None, 290, 25)           1425      \n",
            "                                                                 \n",
            " conv1d_1 (Conv1D)           (None, 290, 128)          16128     \n",
            "                                                                 \n",
            " global_max_pooling1d_1 (Glo  (None, 128)              0         \n",
            " balMaxPooling1D)                                                \n",
            "                                                                 \n",
            " dense_3 (Dense)             (None, 5)                 645       \n",
            "                                                                 \n",
            "=================================================================\n",
            "Total params: 18,198\n",
            "Trainable params: 18,198\n",
            "Non-trainable params: 0\n",
            "_________________________________________________________________\n"
          ]
        }
      ],
      "source": [
        "# summary\n",
        "model_3.summary()"
      ]
    },
    {
      "cell_type": "code",
      "execution_count": 85,
      "metadata": {
        "id": "fqRty3vGIrYv"
      },
      "outputs": [],
      "source": [
        "# Create char level datasets\n",
        "train_char_dataset = tf.data.Dataset.from_tensor_slices((train_chars, train_labels_one_hot)).batch(32).prefetch(tf.data.AUTOTUNE)\n",
        "val_char_dataset = tf.data.Dataset.from_tensor_slices((val_chars, val_labels_one_hot)).batch(32).prefetch(tf.data.AUTOTUNE)\n",
        "test_char_dataset = tf.data.Dataset.from_tensor_slices((test_chars, test_labels_one_hot)).batch(32).prefetch(tf.data.AUTOTUNE)"
      ]
    },
    {
      "cell_type": "code",
      "execution_count": 86,
      "metadata": {
        "id": "jqlnIVh7JeFJ",
        "colab": {
          "base_uri": "https://localhost:8080/"
        },
        "outputId": "50bcbff8-7e91-4ca5-a07e-dcdcbc8301e7"
      },
      "outputs": [
        {
          "output_type": "execute_result",
          "data": {
            "text/plain": [
              "<_PrefetchDataset element_spec=(TensorSpec(shape=(None,), dtype=tf.string, name=None), TensorSpec(shape=(None, 5), dtype=tf.float64, name=None))>"
            ]
          },
          "metadata": {},
          "execution_count": 86
        }
      ],
      "source": [
        "train_char_dataset"
      ]
    },
    {
      "cell_type": "code",
      "execution_count": 87,
      "metadata": {
        "id": "wCOUcEhwJl_q",
        "colab": {
          "base_uri": "https://localhost:8080/"
        },
        "outputId": "51d6db96-a076-4470-9829-dd0a1c13b4f4"
      },
      "outputs": [
        {
          "output_type": "stream",
          "name": "stdout",
          "text": [
            "Epoch 1/5\n",
            "562/562 [==============================] - 8s 11ms/step - loss: 1.1296 - accuracy: 0.5488 - val_loss: 0.9058 - val_accuracy: 0.6476\n",
            "Epoch 2/5\n",
            "562/562 [==============================] - 3s 6ms/step - loss: 0.8604 - accuracy: 0.6622 - val_loss: 0.8032 - val_accuracy: 0.6882\n",
            "Epoch 3/5\n",
            "562/562 [==============================] - 4s 6ms/step - loss: 0.7936 - accuracy: 0.6906 - val_loss: 0.7392 - val_accuracy: 0.7197\n",
            "Epoch 4/5\n",
            "562/562 [==============================] - 4s 7ms/step - loss: 0.7438 - accuracy: 0.7166 - val_loss: 0.7020 - val_accuracy: 0.7271\n",
            "Epoch 5/5\n",
            "562/562 [==============================] - 5s 9ms/step - loss: 0.7284 - accuracy: 0.7209 - val_loss: 0.6794 - val_accuracy: 0.7354\n"
          ]
        }
      ],
      "source": [
        "#Fit the model on chars only\n",
        "\n",
        "model_3_history = model_3.fit(train_char_dataset,\n",
        "                              steps_per_epoch = int(0.1 * len(train_char_dataset)),\n",
        "                              epochs = 5,\n",
        "                              validation_data = val_char_dataset,\n",
        "                              validation_steps = int(0.1*len(val_char_dataset)))"
      ]
    },
    {
      "cell_type": "code",
      "execution_count": 87,
      "metadata": {
        "id": "Y_7yxUgvNfGV"
      },
      "outputs": [],
      "source": []
    },
    {
      "cell_type": "code",
      "execution_count": 88,
      "metadata": {
        "id": "zKnJhwtoKGEF",
        "colab": {
          "base_uri": "https://localhost:8080/"
        },
        "outputId": "6d7e9a0e-6b63-4dc3-f527-fd8262e7c180"
      },
      "outputs": [
        {
          "output_type": "stream",
          "name": "stdout",
          "text": [
            "945/945 [==============================] - 5s 5ms/step\n"
          ]
        },
        {
          "output_type": "execute_result",
          "data": {
            "text/plain": [
              "array([[0.09944364, 0.7479421 , 0.05326798, 0.09154749, 0.00779875],\n",
              "       [0.19703574, 0.667757  , 0.00305465, 0.09835165, 0.03380104],\n",
              "       [0.10044339, 0.25258234, 0.10741282, 0.48959592, 0.04996555],\n",
              "       ...,\n",
              "       [0.00133656, 0.00280423, 0.03093269, 0.00236964, 0.96255684],\n",
              "       [0.03894575, 0.22161281, 0.29534873, 0.03376569, 0.41032696],\n",
              "       [0.1418796 , 0.7925075 , 0.04909116, 0.00983796, 0.00668384]],\n",
              "      dtype=float32)"
            ]
          },
          "metadata": {},
          "execution_count": 88
        }
      ],
      "source": [
        "# Make predictions\n",
        "model_3_pred_probs = model_3.predict(val_char_dataset)\n",
        "model_3_pred_probs"
      ]
    },
    {
      "cell_type": "code",
      "execution_count": 89,
      "metadata": {
        "id": "SzrbI1-0NLx0",
        "colab": {
          "base_uri": "https://localhost:8080/"
        },
        "outputId": "a7e2f708-42bb-4638-c781-04016208a455"
      },
      "outputs": [
        {
          "output_type": "execute_result",
          "data": {
            "text/plain": [
              "<tf.Tensor: shape=(30212,), dtype=int64, numpy=array([1, 1, 3, ..., 4, 4, 1])>"
            ]
          },
          "metadata": {},
          "execution_count": 89
        }
      ],
      "source": [
        "model_3_pred = tf.argmax(model_3_pred_probs, axis = 1)\n",
        "model_3_pred"
      ]
    },
    {
      "cell_type": "code",
      "execution_count": 90,
      "metadata": {
        "id": "z-b9-mobNrnB",
        "colab": {
          "base_uri": "https://localhost:8080/"
        },
        "outputId": "64a57c26-6e4e-4f5b-f8b6-9bc337c6a85b"
      },
      "outputs": [
        {
          "output_type": "execute_result",
          "data": {
            "text/plain": [
              "{'accuracy': 73.41453726995896,\n",
              " 'precision': 0.7393583226198112,\n",
              " 'recall': 0.7341453726995896,\n",
              " 'f1': 0.7311411076370896}"
            ]
          },
          "metadata": {},
          "execution_count": 90
        }
      ],
      "source": [
        "# calculate results\n",
        "model_3_results = calculate_results(val_labels_encoded,\n",
        "                                    model_3_pred)\n",
        "model_3_results"
      ]
    },
    {
      "cell_type": "markdown",
      "metadata": {
        "id": "NxFa7mfTOLXI"
      },
      "source": [
        "#Till Now Results of all models we built"
      ]
    },
    {
      "cell_type": "code",
      "execution_count": 91,
      "metadata": {
        "id": "9JbjnaP4PXKl",
        "colab": {
          "base_uri": "https://localhost:8080/"
        },
        "outputId": "64493ff3-dac9-4b05-f9a1-8f32a2c89fe2"
      },
      "outputs": [
        {
          "output_type": "stream",
          "name": "stdout",
          "text": [
            "Baseline model:\n",
            "{'accuracy': 72.1832384482987, 'precision': 0.7186466952323352, 'recall': 0.7218323844829869, 'f1': 0.6989250353450294}\n",
            "\n",
            "\n",
            "Model 1 with Word Token Embedding:\n",
            "{'accuracy': 82.13623725671918, 'precision': 0.8218226003526016, 'recall': 0.8213623725671918, 'f1': 0.8190584278324832}\n",
            "\n",
            "\n",
            "Model 2 Tf Hub pretrained Feature Extractor:\n",
            "{'accuracy': 73.48404607440752, 'precision': 0.7311324733648183, 'recall': 0.7348404607440752, 'f1': 0.7294039269918708}\n",
            "\n",
            "\n",
            "Model 3 Character level Embedding:\n",
            "{'accuracy': 73.41453726995896, 'precision': 0.7393583226198112, 'recall': 0.7341453726995896, 'f1': 0.7311411076370896}\n"
          ]
        }
      ],
      "source": [
        "print(f\"Baseline model:\\n{baseline_results}\\n\\n\")\n",
        "print(f'Model 1 with Word Token Embedding:\\n{model_1_results}\\n\\n')\n",
        "print(f'Model 2 Tf Hub pretrained Feature Extractor:\\n{model_2_results}\\n\\n')\n",
        "print(f'Model 3 Character level Embedding:\\n{model_3_results}')"
      ]
    },
    {
      "cell_type": "markdown",
      "metadata": {
        "id": "V1x5jrv_P1ot"
      },
      "source": [
        "##Model 4: Combining pretrained token embeddings + characters embeddings ( hybrid layer)"
      ]
    },
    {
      "cell_type": "markdown",
      "metadata": {
        "id": "myV4A9sJ5slY"
      },
      "source": [
        "1. Create a token - level embedding model\n",
        "2. Create a character-level model (similar to `model_3` with modification)\n",
        "3. Combine a series of output layers\n",
        "4. build a series of output takes token and character level sequences as input sequences\n",
        "5. Construct a model which takes token and character-level sequences as input and produces output"
      ]
    },
    {
      "cell_type": "markdown",
      "metadata": {
        "id": "sxeSpsSO9lga"
      },
      "source": [
        "###1. Setup token inputs/model"
      ]
    },
    {
      "cell_type": "code",
      "execution_count": 92,
      "metadata": {
        "id": "MmzqtmBs-e2O"
      },
      "outputs": [],
      "source": [
        "token_inputs = layers.Input(shape=[], dtype = tf.string, name = 'token_input')\n",
        "token_embeddings = tf_hub_embedding_layer(token_inputs)\n",
        "token_output = layers.Dense(128, activation = 'relu')(token_embeddings)\n",
        "token_model = tf.keras.Model(token_inputs,\n",
        "                             token_output)"
      ]
    },
    {
      "cell_type": "markdown",
      "metadata": {
        "id": "sg6ST1bQBEVE"
      },
      "source": [
        "###2. Setup Char inputs/model"
      ]
    },
    {
      "cell_type": "code",
      "execution_count": 93,
      "metadata": {
        "id": "F_T-A_p5_IwD"
      },
      "outputs": [],
      "source": [
        "char_inputs = layers.Input(shape = (1,), dtype =tf.string, name = 'char_input')\n",
        "char_vectors = char_vectorizer(char_inputs)\n",
        "char_embeddings = char_embed(char_vectors)\n",
        "char_bi_lstm = layers.Bidirectional(layers.LSTM(24))(char_embeddings)\n",
        "char_model = tf.keras.Model(char_inputs,\n",
        "                            char_bi_lstm)"
      ]
    },
    {
      "cell_type": "markdown",
      "metadata": {
        "id": "DKLQ8Od2BKDn"
      },
      "source": [
        "###3. Concatenate token and char inputs (create hybrid token embedding)"
      ]
    },
    {
      "cell_type": "code",
      "execution_count": 94,
      "metadata": {
        "id": "4ekmr9bYDtFZ"
      },
      "outputs": [],
      "source": [
        "token_char_concat = layers.Concatenate(name = 'token_char_hybrid')([token_model.output,\n",
        "                                                                    char_model.output])"
      ]
    },
    {
      "cell_type": "markdown",
      "metadata": {
        "id": "zuvYSV-yFBZH"
      },
      "source": [
        "###4. Create output layers - adding in Dropout"
      ]
    },
    {
      "cell_type": "code",
      "execution_count": 95,
      "metadata": {
        "id": "hT1DzcqnFeTX"
      },
      "outputs": [],
      "source": [
        "combined_dropout = layers.Dropout(0.5)(token_char_concat)\n",
        "combined_dense = layers.Dense(128, activation = 'relu')(combined_dropout)\n",
        "final_dropout = layers.Dropout(0.5)(combined_dense)\n",
        "\n",
        "output_layer = layers.Dense(num_classes, activation = 'softmax')(final_dropout)"
      ]
    },
    {
      "cell_type": "markdown",
      "metadata": {
        "id": "4dY3pEJ7jxaI"
      },
      "source": [
        "###5. Construct model with char and token inputs"
      ]
    },
    {
      "cell_type": "code",
      "execution_count": 96,
      "metadata": {
        "id": "YPCa_6bSnL0Q"
      },
      "outputs": [],
      "source": [
        "model_4 = tf.keras.Model(inputs = [token_model.input, char_model.input],\n",
        "                         outputs = output_layer,\n",
        "                         name = \"model_4_token_and_char_embedding\")"
      ]
    },
    {
      "cell_type": "code",
      "execution_count": 97,
      "metadata": {
        "id": "Kw4oXW60oYrG",
        "colab": {
          "base_uri": "https://localhost:8080/"
        },
        "outputId": "872a8798-3208-4d73-cdc2-7d95d377c07c"
      },
      "outputs": [
        {
          "output_type": "stream",
          "name": "stdout",
          "text": [
            "Model: \"model_4_token_and_char_embedding\"\n",
            "__________________________________________________________________________________________________\n",
            " Layer (type)                   Output Shape         Param #     Connected to                     \n",
            "==================================================================================================\n",
            " char_input (InputLayer)        [(None, 1)]          0           []                               \n",
            "                                                                                                  \n",
            " token_input (InputLayer)       [(None,)]            0           []                               \n",
            "                                                                                                  \n",
            " char_vectorizer (TextVectoriza  (None, 290)         0           ['char_input[0][0]']             \n",
            " tion)                                                                                            \n",
            "                                                                                                  \n",
            " universal_sentance_encoder (Ke  (None, 512)         256797824   ['token_input[0][0]']            \n",
            " rasLayer)                                                                                        \n",
            "                                                                                                  \n",
            " char_embed (Embedding)         (None, 290, 25)      1425        ['char_vectorizer[1][0]']        \n",
            "                                                                                                  \n",
            " dense_4 (Dense)                (None, 128)          65664       ['universal_sentance_encoder[1][0\n",
            "                                                                 ]']                              \n",
            "                                                                                                  \n",
            " bidirectional (Bidirectional)  (None, 48)           9600        ['char_embed[1][0]']             \n",
            "                                                                                                  \n",
            " token_char_hybrid (Concatenate  (None, 176)         0           ['dense_4[0][0]',                \n",
            " )                                                                'bidirectional[0][0]']          \n",
            "                                                                                                  \n",
            " dropout (Dropout)              (None, 176)          0           ['token_char_hybrid[0][0]']      \n",
            "                                                                                                  \n",
            " dense_5 (Dense)                (None, 128)          22656       ['dropout[0][0]']                \n",
            "                                                                                                  \n",
            " dropout_1 (Dropout)            (None, 128)          0           ['dense_5[0][0]']                \n",
            "                                                                                                  \n",
            " dense_6 (Dense)                (None, 5)            645         ['dropout_1[0][0]']              \n",
            "                                                                                                  \n",
            "==================================================================================================\n",
            "Total params: 256,897,814\n",
            "Trainable params: 99,990\n",
            "Non-trainable params: 256,797,824\n",
            "__________________________________________________________________________________________________\n"
          ]
        }
      ],
      "source": [
        "# model summary\n",
        "model_4.summary()"
      ]
    },
    {
      "cell_type": "code",
      "execution_count": 98,
      "metadata": {
        "id": "61zOsf9eotzV",
        "colab": {
          "base_uri": "https://localhost:8080/",
          "height": 976
        },
        "outputId": "140819f7-2c90-4e42-ff6f-6931ffbc0e90"
      },
      "outputs": [
        {
          "output_type": "execute_result",
          "data": {
            "image/png": "[encoded data removed]",
            "text/plain": [
              "<IPython.core.display.Image object>"
            ]
          },
          "metadata": {},
          "execution_count": 98
        }
      ],
      "source": [
        "# Plot hybrid token and char model\n",
        "from keras.utils import plot_model\n",
        "plot_model(model_4, show_shapes = True)"
      ]
    },
    {
      "cell_type": "code",
      "execution_count": 99,
      "metadata": {
        "id": "r7XI1vF8pOGA"
      },
      "outputs": [],
      "source": [
        "# Compile the model\n",
        "model_4.compile(loss = 'categorical_crossentropy',\n",
        "                optimizer = tf.keras.optimizers.Adam(),\n",
        "                metrics = ['accuracy'])"
      ]
    },
    {
      "cell_type": "markdown",
      "metadata": {
        "id": "uQbRHpCmFO7M"
      },
      "source": [
        "#### Combining token and character data into tf.data dataset"
      ]
    },
    {
      "cell_type": "code",
      "execution_count": 100,
      "metadata": {
        "id": "9IB6ToEDFjgC"
      },
      "outputs": [],
      "source": [
        "# combine chars and tokens into dataset\n",
        "\n",
        "train_char_token_data = tf.data.Dataset.from_tensor_slices((train_sentances, train_chars))\n",
        "train_char_token_labels = tf.data.Dataset.from_tensor_slices(train_labels_one_hot)\n",
        "train_char_token_dataset = tf.data.Dataset.zip((train_char_token_data, train_char_token_labels))\n",
        "\n",
        "# prefetch and batch train data\n",
        "\n",
        "train_char_token_dataset = train_char_token_dataset.batch(32).prefetch(tf.data.AUTOTUNE)"
      ]
    },
    {
      "cell_type": "code",
      "execution_count": 101,
      "metadata": {
        "id": "mzZn-8r9H1rK"
      },
      "outputs": [],
      "source": [
        "# repeat for val data\n",
        "\n",
        "val_char_token_data = tf.data.Dataset.from_tensor_slices((val_sentances, val_chars))\n",
        "val_char_token_labels = tf.data.Dataset.from_tensor_slices(val_labels_one_hot)\n",
        "val_char_token_dataset = tf.data.Dataset.zip((val_char_token_data, val_char_token_labels))\n",
        "\n",
        "# prefetch and batch train data\n",
        "\n",
        "val_char_token_dataset = val_char_token_dataset.batch(32).prefetch(tf.data.AUTOTUNE)"
      ]
    },
    {
      "cell_type": "code",
      "execution_count": 102,
      "metadata": {
        "id": "saC3BODpIZ0r"
      },
      "outputs": [],
      "source": [
        "# repeat for test data\n",
        "\n",
        "test_char_token_data = tf.data.Dataset.from_tensor_slices((test_sentances, test_chars))\n",
        "test_char_token_labels = tf.data.Dataset.from_tensor_slices(test_labels_one_hot)\n",
        "test_char_token_dataset = tf.data.Dataset.zip((test_char_token_data, test_char_token_labels))\n",
        "\n",
        "# prefetch and batch train data\n",
        "\n",
        "test_char_token_dataset = test_char_token_dataset.batch(32).prefetch(tf.data.AUTOTUNE)"
      ]
    },
    {
      "cell_type": "code",
      "execution_count": 103,
      "metadata": {
        "id": "foTbVFOjIo3u",
        "colab": {
          "base_uri": "https://localhost:8080/"
        },
        "outputId": "737e7f21-a6e8-42d1-9158-6c5a8d1c8e37"
      },
      "outputs": [
        {
          "output_type": "stream",
          "name": "stdout",
          "text": [
            "Epoch 1/5\n",
            "562/562 [==============================] - 42s 55ms/step - loss: 0.9680 - accuracy: 0.6178 - val_loss: 0.7732 - val_accuracy: 0.6975\n",
            "Epoch 2/5\n",
            "562/562 [==============================] - 25s 45ms/step - loss: 0.7876 - accuracy: 0.6998 - val_loss: 0.7004 - val_accuracy: 0.7297\n",
            "Epoch 3/5\n",
            "562/562 [==============================] - 27s 47ms/step - loss: 0.7520 - accuracy: 0.7141 - val_loss: 0.6751 - val_accuracy: 0.7460\n",
            "Epoch 4/5\n",
            "562/562 [==============================] - 25s 45ms/step - loss: 0.7275 - accuracy: 0.7262 - val_loss: 0.6537 - val_accuracy: 0.7537\n",
            "Epoch 5/5\n",
            "562/562 [==============================] - 24s 43ms/step - loss: 0.7282 - accuracy: 0.7257 - val_loss: 0.6513 - val_accuracy: 0.7493\n"
          ]
        }
      ],
      "source": [
        "# Fit the model\n",
        "model_4_history = model_4.fit(train_char_token_dataset,\n",
        "                              steps_per_epoch = int(0.1*len(train_char_token_dataset)),\n",
        "                              epochs = 5,\n",
        "                              validation_data = val_char_token_dataset,\n",
        "                              validation_steps = int(0.1*len(val_char_token_dataset)))"
      ]
    },
    {
      "cell_type": "code",
      "execution_count": 104,
      "metadata": {
        "id": "LYVQ2XWDNhty",
        "colab": {
          "base_uri": "https://localhost:8080/"
        },
        "outputId": "a39088a7-d962-4f68-f871-66931c4e2309"
      },
      "outputs": [
        {
          "output_type": "stream",
          "name": "stdout",
          "text": [
            "945/945 [==============================] - 22s 23ms/step - loss: 0.6492 - accuracy: 0.7536\n"
          ]
        },
        {
          "output_type": "execute_result",
          "data": {
            "text/plain": [
              "[0.6492007374763489, 0.7536409497261047]"
            ]
          },
          "metadata": {},
          "execution_count": 104
        }
      ],
      "source": [
        "# Evaluate the model\n",
        "model_4.evaluate(val_char_token_dataset)"
      ]
    },
    {
      "cell_type": "code",
      "execution_count": 105,
      "metadata": {
        "id": "ZRsACVdsNqvk",
        "colab": {
          "base_uri": "https://localhost:8080/"
        },
        "outputId": "17ff8a6e-1368-4340-eb0c-ad6d3625bbf8"
      },
      "outputs": [
        {
          "output_type": "stream",
          "name": "stdout",
          "text": [
            "945/945 [==============================] - 24s 22ms/step\n"
          ]
        },
        {
          "output_type": "execute_result",
          "data": {
            "text/plain": [
              "array([[5.97563088e-01, 2.42629290e-01, 6.07134216e-03, 1.46294415e-01,\n",
              "        7.44183687e-03],\n",
              "       [4.77477908e-01, 3.99571508e-01, 1.34552792e-02, 1.05891824e-01,\n",
              "        3.60348751e-03],\n",
              "       [3.56511742e-01, 8.53152052e-02, 1.17474087e-01, 4.11817014e-01,\n",
              "        2.88819876e-02],\n",
              "       ...,\n",
              "       [8.19862616e-05, 3.73898016e-04, 1.30966166e-02, 1.16942174e-05,\n",
              "        9.86435831e-01],\n",
              "       [5.49555151e-03, 1.87598821e-02, 7.01339960e-01, 2.28851405e-03,\n",
              "        2.72116095e-01],\n",
              "       [2.14049011e-01, 5.04266441e-01, 2.32841671e-01, 9.50182322e-03,\n",
              "        3.93410586e-02]], dtype=float32)"
            ]
          },
          "metadata": {},
          "execution_count": 105
        }
      ],
      "source": [
        "# make predictions using model 4\n",
        "model_4_pred_probs = model_4.predict(val_char_token_dataset)\n",
        "model_4_pred_probs"
      ]
    },
    {
      "cell_type": "code",
      "execution_count": 106,
      "metadata": {
        "id": "n7xUJjJcwDeW",
        "colab": {
          "base_uri": "https://localhost:8080/"
        },
        "outputId": "ec64a8bd-5765-4ae3-a695-71924d7745f1"
      },
      "outputs": [
        {
          "output_type": "execute_result",
          "data": {
            "text/plain": [
              "<tf.Tensor: shape=(30212,), dtype=int64, numpy=array([0, 0, 3, ..., 4, 2, 1])>"
            ]
          },
          "metadata": {},
          "execution_count": 106
        }
      ],
      "source": [
        "# format into pred labels\n",
        "model_4_pred = tf.argmax(model_4_pred_probs,axis = 1)\n",
        "\n",
        "model_4_pred"
      ]
    },
    {
      "cell_type": "code",
      "execution_count": 107,
      "metadata": {
        "id": "S46AvyjrwgTJ",
        "colab": {
          "base_uri": "https://localhost:8080/"
        },
        "outputId": "02633bda-0a11-43d1-ae0d-2015141dde3b"
      },
      "outputs": [
        {
          "output_type": "execute_result",
          "data": {
            "text/plain": [
              "{'accuracy': 75.36409373758771,\n",
              " 'precision': 0.7515134524440508,\n",
              " 'recall': 0.7536409373758771,\n",
              " 'f1': 0.7479514085889839}"
            ]
          },
          "metadata": {},
          "execution_count": 107
        }
      ],
      "source": [
        "# Get results of token-char_hybrid model\n",
        "model_4_results = calculate_results(val_labels_encoded,\n",
        "                                    model_4_pred)\n",
        "model_4_results"
      ]
    },
    {
      "cell_type": "markdown",
      "metadata": {
        "id": "XNY0-yAjxy1d"
      },
      "source": [
        "## Model 5: Pretrained embeddings + char embedding + positional embeddings"
      ]
    },
    {
      "cell_type": "markdown",
      "metadata": {
        "id": "NxXvnzi1zdmO"
      },
      "source": [
        "Feature Engineering\n",
        "---\n",
        "taking non obvious features from the data and encoding them numerically to help our model learn"
      ]
    },
    {
      "cell_type": "code",
      "execution_count": 108,
      "metadata": {
        "id": "Fj12m_6j0tIf",
        "colab": {
          "base_uri": "https://localhost:8080/",
          "height": 206
        },
        "outputId": "f2ac5841-e5e3-488b-e902-59a76078f898"
      },
      "outputs": [
        {
          "output_type": "execute_result",
          "data": {
            "text/plain": [
              "      target                                               text  line_number  \\\n",
              "0  OBJECTIVE  to investigate the efficacy of @ weeks of dail...            0   \n",
              "1    METHODS  a total of @ patients with primary knee oa wer...            1   \n",
              "2    METHODS  outcome measures included pain reduction and i...            2   \n",
              "3    METHODS  pain was assessed using the visual analog pain...            3   \n",
              "4    METHODS  secondary outcome measures included the wester...            4   \n",
              "\n",
              "   total_lines  \n",
              "0           11  \n",
              "1           11  \n",
              "2           11  \n",
              "3           11  \n",
              "4           11  "
            ],
            "text/html": [
              "\n",
              "\n",
              "  <div id=\"df-0ceb65b2-c56a-4a32-aca9-a4654af039f6\">\n",
              "    <div class=\"colab-df-container\">\n",
              "      <div>\n",
              "<style scoped>\n",
              "    .dataframe tbody tr th:only-of-type {\n",
              "        vertical-align: middle;\n",
              "    }\n",
              "\n",
              "    .dataframe tbody tr th {\n",
              "        vertical-align: top;\n",
              "    }\n",
              "\n",
              "    .dataframe thead th {\n",
              "        text-align: right;\n",
              "    }\n",
              "</style>\n",
              "<table border=\"1\" class=\"dataframe\">\n",
              "  <thead>\n",
              "    <tr style=\"text-align: right;\">\n",
              "      <th></th>\n",
              "      <th>target</th>\n",
              "      <th>text</th>\n",
              "      <th>line_number</th>\n",
              "      <th>total_lines</th>\n",
              "    </tr>\n",
              "  </thead>\n",
              "  <tbody>\n",
              "    <tr>\n",
              "      <th>0</th>\n",
              "      <td>OBJECTIVE</td>\n",
              "      <td>to investigate the efficacy of @ weeks of dail...</td>\n",
              "      <td>0</td>\n",
              "      <td>11</td>\n",
              "    </tr>\n",
              "    <tr>\n",
              "      <th>1</th>\n",
              "      <td>METHODS</td>\n",
              "      <td>a total of @ patients with primary knee oa wer...</td>\n",
              "      <td>1</td>\n",
              "      <td>11</td>\n",
              "    </tr>\n",
              "    <tr>\n",
              "      <th>2</th>\n",
              "      <td>METHODS</td>\n",
              "      <td>outcome measures included pain reduction and i...</td>\n",
              "      <td>2</td>\n",
              "      <td>11</td>\n",
              "    </tr>\n",
              "    <tr>\n",
              "      <th>3</th>\n",
              "      <td>METHODS</td>\n",
              "      <td>pain was assessed using the visual analog pain...</td>\n",
              "      <td>3</td>\n",
              "      <td>11</td>\n",
              "    </tr>\n",
              "    <tr>\n",
              "      <th>4</th>\n",
              "      <td>METHODS</td>\n",
              "      <td>secondary outcome measures included the wester...</td>\n",
              "      <td>4</td>\n",
              "      <td>11</td>\n",
              "    </tr>\n",
              "  </tbody>\n",
              "</table>\n",
              "</div>\n",
              "      <button class=\"colab-df-convert\" onclick=\"convertToInteractive('df-0ceb65b2-c56a-4a32-aca9-a4654af039f6')\"\n",
              "              title=\"Convert this dataframe to an interactive table.\"\n",
              "              style=\"display:none;\">\n",
              "\n",
              "  <svg xmlns=\"http://www.w3.org/2000/svg\" height=\"24px\"viewBox=\"0 0 24 24\"\n",
              "       width=\"24px\">\n",
              "    <path d=\"M0 0h24v24H0V0z\" fill=\"none\"/>\n",
              "    <path d=\"M18.56 5.44l.94 2.06.94-2.06 2.06-.94-2.06-.94-.94-2.06-.94 2.06-2.06.94zm-11 1L8.5 8.5l.94-2.06 2.06-.94-2.06-.94L8.5 2.5l-.94 2.06-2.06.94zm10 10l.94 2.06.94-2.06 2.06-.94-2.06-.94-.94-2.06-.94 2.06-2.06.94z\"/><path d=\"M17.41 7.96l-1.37-1.37c-.4-.4-.92-.59-1.43-.59-.52 0-1.04.2-1.43.59L10.3 9.45l-7.72 7.72c-.78.78-.78 2.05 0 2.83L4 21.41c.39.39.9.59 1.41.59.51 0 1.02-.2 1.41-.59l7.78-7.78 2.81-2.81c.8-.78.8-2.07 0-2.86zM5.41 20L4 18.59l7.72-7.72 1.47 1.35L5.41 20z\"/>\n",
              "  </svg>\n",
              "      </button>\n",
              "\n",
              "\n",
              "\n",
              "    <div id=\"df-55b7a212-c8e2-44dc-8706-e8ca0d1bc7cf\">\n",
              "      <button class=\"colab-df-quickchart\" onclick=\"quickchart('df-55b7a212-c8e2-44dc-8706-e8ca0d1bc7cf')\"\n",
              "              title=\"Suggest charts.\"\n",
              "              style=\"display:none;\">\n",
              "\n",
              "<svg xmlns=\"http://www.w3.org/2000/svg\" height=\"24px\"viewBox=\"0 0 24 24\"\n",
              "     width=\"24px\">\n",
              "    <g>\n",
              "        <path d=\"M19 3H5c-1.1 0-2 .9-2 2v14c0 1.1.9 2 2 2h14c1.1 0 2-.9 2-2V5c0-1.1-.9-2-2-2zM9 17H7v-7h2v7zm4 0h-2V7h2v10zm4 0h-2v-4h2v4z\"/>\n",
              "    </g>\n",
              "</svg>\n",
              "      </button>\n",
              "    </div>\n",
              "\n",
              "<style>\n",
              "  .colab-df-quickchart {\n",
              "    background-color: #E8F0FE;\n",
              "    border: none;\n",
              "    border-radius: 50%;\n",
              "    cursor: pointer;\n",
              "    display: none;\n",
              "    fill: #1967D2;\n",
              "    height: 32px;\n",
              "    padding: 0 0 0 0;\n",
              "    width: 32px;\n",
              "  }\n",
              "\n",
              "  .colab-df-quickchart:hover {\n",
              "    background-color: #E2EBFA;\n",
              "    box-shadow: 0px 1px 2px rgba(60, 64, 67, 0.3), 0px 1px 3px 1px rgba(60, 64, 67, 0.15);\n",
              "    fill: #174EA6;\n",
              "  }\n",
              "\n",
              "  [theme=dark] .colab-df-quickchart {\n",
              "    background-color: #3B4455;\n",
              "    fill: #D2E3FC;\n",
              "  }\n",
              "\n",
              "  [theme=dark] .colab-df-quickchart:hover {\n",
              "    background-color: #434B5C;\n",
              "    box-shadow: 0px 1px 3px 1px rgba(0, 0, 0, 0.15);\n",
              "    filter: drop-shadow(0px 1px 2px rgba(0, 0, 0, 0.3));\n",
              "    fill: #FFFFFF;\n",
              "  }\n",
              "</style>\n",
              "\n",
              "    <script>\n",
              "      async function quickchart(key) {\n",
              "        const containerElement = document.querySelector('#' + key);\n",
              "        const charts = await google.colab.kernel.invokeFunction(\n",
              "            'suggestCharts', [key], {});\n",
              "      }\n",
              "    </script>\n",
              "\n",
              "      <script>\n",
              "\n",
              "function displayQuickchartButton(domScope) {\n",
              "  let quickchartButtonEl =\n",
              "    domScope.querySelector('#df-55b7a212-c8e2-44dc-8706-e8ca0d1bc7cf button.colab-df-quickchart');\n",
              "  quickchartButtonEl.style.display =\n",
              "    google.colab.kernel.accessAllowed ? 'block' : 'none';\n",
              "}\n",
              "\n",
              "        displayQuickchartButton(document);\n",
              "      </script>\n",
              "      <style>\n",
              "    .colab-df-container {\n",
              "      display:flex;\n",
              "      flex-wrap:wrap;\n",
              "      gap: 12px;\n",
              "    }\n",
              "\n",
              "    .colab-df-convert {\n",
              "      background-color: #E8F0FE;\n",
              "      border: none;\n",
              "      border-radius: 50%;\n",
              "      cursor: pointer;\n",
              "      display: none;\n",
              "      fill: #1967D2;\n",
              "      height: 32px;\n",
              "      padding: 0 0 0 0;\n",
              "      width: 32px;\n",
              "    }\n",
              "\n",
              "    .colab-df-convert:hover {\n",
              "      background-color: #E2EBFA;\n",
              "      box-shadow: 0px 1px 2px rgba(60, 64, 67, 0.3), 0px 1px 3px 1px rgba(60, 64, 67, 0.15);\n",
              "      fill: #174EA6;\n",
              "    }\n",
              "\n",
              "    [theme=dark] .colab-df-convert {\n",
              "      background-color: #3B4455;\n",
              "      fill: #D2E3FC;\n",
              "    }\n",
              "\n",
              "    [theme=dark] .colab-df-convert:hover {\n",
              "      background-color: #434B5C;\n",
              "      box-shadow: 0px 1px 3px 1px rgba(0, 0, 0, 0.15);\n",
              "      filter: drop-shadow(0px 1px 2px rgba(0, 0, 0, 0.3));\n",
              "      fill: #FFFFFF;\n",
              "    }\n",
              "  </style>\n",
              "\n",
              "      <script>\n",
              "        const buttonEl =\n",
              "          document.querySelector('#df-0ceb65b2-c56a-4a32-aca9-a4654af039f6 button.colab-df-convert');\n",
              "        buttonEl.style.display =\n",
              "          google.colab.kernel.accessAllowed ? 'block' : 'none';\n",
              "\n",
              "        async function convertToInteractive(key) {\n",
              "          const element = document.querySelector('#df-0ceb65b2-c56a-4a32-aca9-a4654af039f6');\n",
              "          const dataTable =\n",
              "            await google.colab.kernel.invokeFunction('convertToInteractive',\n",
              "                                                     [key], {});\n",
              "          if (!dataTable) return;\n",
              "\n",
              "          const docLinkHtml = 'Like what you see? Visit the ' +\n",
              "            '<a target=\"_blank\" href=https://colab.research.google.com/notebooks/data_table.ipynb>data table notebook</a>'\n",
              "            + ' to learn more about interactive tables.';\n",
              "          element.innerHTML = '';\n",
              "          dataTable['output_type'] = 'display_data';\n",
              "          await google.colab.output.renderOutput(dataTable, element);\n",
              "          const docLink = document.createElement('div');\n",
              "          docLink.innerHTML = docLinkHtml;\n",
              "          element.appendChild(docLink);\n",
              "        }\n",
              "      </script>\n",
              "    </div>\n",
              "  </div>\n"
            ]
          },
          "metadata": {},
          "execution_count": 108
        }
      ],
      "source": [
        "train_df.head()"
      ]
    },
    {
      "cell_type": "markdown",
      "metadata": {
        "id": "yR34mxmE2tIf"
      },
      "source": [
        "###Create positional Embeddings"
      ]
    },
    {
      "cell_type": "code",
      "execution_count": 109,
      "metadata": {
        "id": "stUBwEMZDQtq",
        "colab": {
          "base_uri": "https://localhost:8080/"
        },
        "outputId": "c918427f-5c47-4e0a-be2c-7d05537291e2"
      },
      "outputs": [
        {
          "output_type": "execute_result",
          "data": {
            "text/plain": [
              "0     15000\n",
              "1     15000\n",
              "2     15000\n",
              "3     15000\n",
              "4     14992\n",
              "5     14949\n",
              "6     14758\n",
              "7     14279\n",
              "8     13346\n",
              "9     11981\n",
              "10    10041\n",
              "11     7892\n",
              "12     5853\n",
              "13     4152\n",
              "14     2835\n",
              "15     1861\n",
              "16     1188\n",
              "17      751\n",
              "18      462\n",
              "19      286\n",
              "20      162\n",
              "21      101\n",
              "22       66\n",
              "23       33\n",
              "24       22\n",
              "25       14\n",
              "26        7\n",
              "27        4\n",
              "28        3\n",
              "29        1\n",
              "30        1\n",
              "Name: line_number, dtype: int64"
            ]
          },
          "metadata": {},
          "execution_count": 109
        }
      ],
      "source": [
        "# How many  different line numbers are there?\n",
        "train_df['line_number'].value_counts()"
      ]
    },
    {
      "cell_type": "code",
      "execution_count": 110,
      "metadata": {
        "id": "VpHjcS4jEk0k",
        "colab": {
          "base_uri": "https://localhost:8080/",
          "height": 448
        },
        "outputId": "5c0503c5-84ce-43fe-c57d-ef2e620ffcd7"
      },
      "outputs": [
        {
          "output_type": "execute_result",
          "data": {
            "text/plain": [
              "<Axes: ylabel='Frequency'>"
            ]
          },
          "metadata": {},
          "execution_count": 110
        },
        {
          "output_type": "display_data",
          "data": {
            "text/plain": [
              "<Figure size 640x480 with 1 Axes>"
            ],
            "image/png": "[encoded data removed]"
          },
          "metadata": {}
        }
      ],
      "source": [
        "train_df.line_number.plot.hist()"
      ]
    },
    {
      "cell_type": "code",
      "execution_count": 111,
      "metadata": {
        "id": "rBYoPIM9E-N0",
        "colab": {
          "base_uri": "https://localhost:8080/"
        },
        "outputId": "35f28d50-b502-4422-a398-d2eed5071eac"
      },
      "outputs": [
        {
          "output_type": "execute_result",
          "data": {
            "text/plain": [
              "TensorShape([30212, 15])"
            ]
          },
          "metadata": {},
          "execution_count": 111
        }
      ],
      "source": [
        "train_lines_numbers_one_hot = tf.one_hot(train_df['line_number'].to_numpy(), depth = 15)\n",
        "val_line_numbers_one_hot = tf.one_hot(val_df[\"line_number\"].to_numpy(), depth=15)\n",
        "test_line_numbers_one_hot = tf.one_hot(test_df[\"line_number\"].to_numpy(), depth=15)\n",
        "val_line_numbers_one_hot.shape"
      ]
    },
    {
      "cell_type": "code",
      "source": [
        "val_line_numbers_one_hot.shape"
      ],
      "metadata": {
        "id": "gBr7x32x4V8M",
        "outputId": "bb21b491-6b83-4388-8f35-ab5d0adc9b31",
        "colab": {
          "base_uri": "https://localhost:8080/"
        }
      },
      "execution_count": 112,
      "outputs": [
        {
          "output_type": "execute_result",
          "data": {
            "text/plain": [
              "TensorShape([30212, 15])"
            ]
          },
          "metadata": {},
          "execution_count": 112
        }
      ]
    },
    {
      "cell_type": "code",
      "execution_count": 113,
      "metadata": {
        "id": "GTXFkKLDGmKE",
        "colab": {
          "base_uri": "https://localhost:8080/"
        },
        "outputId": "d1c0ef63-cc87-438a-ca47-1156671bd043"
      },
      "outputs": [
        {
          "output_type": "execute_result",
          "data": {
            "text/plain": [
              "11    24468\n",
              "10    23639\n",
              "12    22113\n",
              "9     19400\n",
              "13    18438\n",
              "14    14610\n",
              "8     12285\n",
              "15    10768\n",
              "7      7464\n",
              "16     7429\n",
              "17     5202\n",
              "6      3353\n",
              "18     3344\n",
              "19     2480\n",
              "20     1281\n",
              "5      1146\n",
              "21      770\n",
              "22      759\n",
              "23      264\n",
              "4       215\n",
              "24      200\n",
              "25      182\n",
              "26       81\n",
              "28       58\n",
              "3        32\n",
              "30       31\n",
              "27       28\n",
              "Name: total_lines, dtype: int64"
            ]
          },
          "metadata": {},
          "execution_count": 113
        }
      ],
      "source": [
        "# How many  different line numbers are there?\n",
        "train_df['total_lines'].value_counts()"
      ]
    },
    {
      "cell_type": "code",
      "execution_count": 114,
      "metadata": {
        "id": "4bORGo7iJaf_",
        "colab": {
          "base_uri": "https://localhost:8080/",
          "height": 431
        },
        "outputId": "cffd0261-2389-4848-c839-9c57eb27562e"
      },
      "outputs": [
        {
          "output_type": "display_data",
          "data": {
            "text/plain": [
              "<Figure size 640x480 with 1 Axes>"
            ],
            "image/png": "[encoded data removed]"
          },
          "metadata": {}
        }
      ],
      "source": [
        "train_df.total_lines.plot.hist();"
      ]
    },
    {
      "cell_type": "code",
      "source": [
        "np.percentile(train_df.total_lines, 98)"
      ],
      "metadata": {
        "id": "5RA_XpA1QvG1",
        "colab": {
          "base_uri": "https://localhost:8080/"
        },
        "outputId": "533ab307-59d3-4724-88c8-22ebaaab1109"
      },
      "execution_count": 115,
      "outputs": [
        {
          "output_type": "execute_result",
          "data": {
            "text/plain": [
              "20.0"
            ]
          },
          "metadata": {},
          "execution_count": 115
        }
      ]
    },
    {
      "cell_type": "code",
      "source": [
        "# Use TensorFlow to create one-hot-encoded tensors of our \"total_lines\" column\n",
        "train_total_lines_one_hot = tf.one_hot(train_df[\"total_lines\"].to_numpy(), depth=20)\n",
        "val_total_lines_one_hot = tf.one_hot(val_df[\"total_lines\"].to_numpy(), depth=20)\n",
        "test_total_lines_one_hot = tf.one_hot(test_df[\"total_lines\"].to_numpy(), depth=20)\n",
        "\n",
        "# Check shape and samples of total lines one-hot tensor\n",
        "train_total_lines_one_hot.shape, train_total_lines_one_hot[:10]"
      ],
      "metadata": {
        "id": "jbsM0U8jQyEI",
        "colab": {
          "base_uri": "https://localhost:8080/"
        },
        "outputId": "932e9063-0d42-4bf4-8e06-af89c73c902d"
      },
      "execution_count": 116,
      "outputs": [
        {
          "output_type": "execute_result",
          "data": {
            "text/plain": [
              "(TensorShape([180040, 20]),\n",
              " <tf.Tensor: shape=(10, 20), dtype=float32, numpy=\n",
              " array([[0., 0., 0., 0., 0., 0., 0., 0., 0., 0., 0., 1., 0., 0., 0., 0.,\n",
              "         0., 0., 0., 0.],\n",
              "        [0., 0., 0., 0., 0., 0., 0., 0., 0., 0., 0., 1., 0., 0., 0., 0.,\n",
              "         0., 0., 0., 0.],\n",
              "        [0., 0., 0., 0., 0., 0., 0., 0., 0., 0., 0., 1., 0., 0., 0., 0.,\n",
              "         0., 0., 0., 0.],\n",
              "        [0., 0., 0., 0., 0., 0., 0., 0., 0., 0., 0., 1., 0., 0., 0., 0.,\n",
              "         0., 0., 0., 0.],\n",
              "        [0., 0., 0., 0., 0., 0., 0., 0., 0., 0., 0., 1., 0., 0., 0., 0.,\n",
              "         0., 0., 0., 0.],\n",
              "        [0., 0., 0., 0., 0., 0., 0., 0., 0., 0., 0., 1., 0., 0., 0., 0.,\n",
              "         0., 0., 0., 0.],\n",
              "        [0., 0., 0., 0., 0., 0., 0., 0., 0., 0., 0., 1., 0., 0., 0., 0.,\n",
              "         0., 0., 0., 0.],\n",
              "        [0., 0., 0., 0., 0., 0., 0., 0., 0., 0., 0., 1., 0., 0., 0., 0.,\n",
              "         0., 0., 0., 0.],\n",
              "        [0., 0., 0., 0., 0., 0., 0., 0., 0., 0., 0., 1., 0., 0., 0., 0.,\n",
              "         0., 0., 0., 0.],\n",
              "        [0., 0., 0., 0., 0., 0., 0., 0., 0., 0., 0., 1., 0., 0., 0., 0.,\n",
              "         0., 0., 0., 0.]], dtype=float32)>)"
            ]
          },
          "metadata": {},
          "execution_count": 116
        }
      ]
    },
    {
      "cell_type": "code",
      "source": [],
      "metadata": {
        "id": "qPv_xWd4Y3Bv"
      },
      "execution_count": 116,
      "outputs": []
    },
    {
      "cell_type": "markdown",
      "source": [
        "### Building a tribrid embedding model\n",
        "\n",
        "1. Create a token-level model\n",
        "2. Create a char level model\n",
        "3. Create a model for the line_number feature\n",
        "4. Create a model for the total_lines feature\n",
        "5. Combine the ouput of 1 & 2 using concatenate\n",
        "6. Combine the output of 3,4,5 using concate\n",
        "7. Create output layer\n",
        "8. Combine the inputs of 1,2,3,4 and outputs"
      ],
      "metadata": {
        "id": "jri8I4uESINK"
      }
    },
    {
      "cell_type": "code",
      "source": [
        "#1. Token Inputs\n",
        "\n",
        "token_inputs = layers.Input(shape = [], dtype = 'string', name = 'token_inputs')\n",
        "token_embeddings = tf_hub_embedding_layer(token_inputs)\n",
        "token_outputs= layers.Dense(128, activation = 'relu')(token_embeddings)\n",
        "token_model = tf.keras.Model(inputs=token_inputs,\n",
        "                             outputs= token_outputs)\n",
        "\n",
        "\n",
        "# 2. Char inputs\n",
        "char_inputs = layers.Input(shape = (1, ), dtype = 'string', name = 'char_inputs')\n",
        "char_vectors = char_vectorizer(char_inputs)\n",
        "char_embeddings = char_embed(char_vectors)\n",
        "char_bi_lstm = layers.Bidirectional(layers.LSTM(32))(char_embeddings)\n",
        "char_model = tf.keras.Model(char_inputs,char_bi_lstm)\n",
        "\n",
        "\n",
        "#3. Line numbers Model\n",
        "Line_num_inputs = layers.Input(shape = (15,), dtype = tf.int32, name = 'Line_num_input')\n",
        "\n",
        "x = layers.Dense(32, activation = 'relu')(Line_num_inputs)\n",
        "\n",
        "line_number_model = tf.keras.Model(Line_num_inputs, x)\n",
        "\n",
        "\n",
        "\n",
        "# 4. Total lines model\n",
        "\n",
        "total_lines_inputs = layers.Input(shape = (20,), dtype = tf.int32, name = 'total_lines_input')\n",
        "y = layers.Dense(32, activation = 'relu')(total_lines_inputs)\n",
        "total_line_model = tf.keras.Model(total_lines_inputs, y)\n",
        "\n",
        "\n",
        "\n",
        "#5. Combine token and char embeddings into a hybrid embedings\n",
        "\n",
        "combined_embeddings = layers.Concatenate(name = 'char_token_hybrid_embedding')([token_model.output,char_model.output])\n",
        "z = layers.Dense(256, activation = 'relu')(combined_embeddings)\n",
        "z = layers.Dropout(0.5)(z) # according to paper\n",
        "\n",
        "\n",
        "#6. Combine positiional embeddings with combined token and char embeddings\n",
        "z = layers.Concatenate(name = 'char_token_positional_embedding')([line_number_model.output, total_line_model.output, z])\n",
        "\n",
        "\n",
        "# 7. Create output layer\n",
        "output_layer = layers.Dense(5, activation = 'softmax', name = 'output_layer')(z)\n",
        "\n",
        "\n",
        "#Put all together\n",
        "model_5 = tf.keras.Model(inputs = [line_number_model.input,\n",
        "                                   total_line_model.input,\n",
        "                                   token_model.input,\n",
        "                                   char_model.input],\n",
        "                         outputs = output_layer)\n",
        "\n"
      ],
      "metadata": {
        "id": "m8j2fGRWYPbt"
      },
      "execution_count": 138,
      "outputs": []
    },
    {
      "cell_type": "code",
      "source": [
        "model_5.summary()"
      ],
      "metadata": {
        "id": "QfvAItm6GnRo",
        "colab": {
          "base_uri": "https://localhost:8080/"
        },
        "outputId": "fbc99859-0c08-4c1f-d2ed-c305e073839c"
      },
      "execution_count": 139,
      "outputs": [
        {
          "output_type": "stream",
          "name": "stdout",
          "text": [
            "Model: \"model_17\"\n",
            "__________________________________________________________________________________________________\n",
            " Layer (type)                   Output Shape         Param #     Connected to                     \n",
            "==================================================================================================\n",
            " char_inputs (InputLayer)       [(None, 1)]          0           []                               \n",
            "                                                                                                  \n",
            " token_inputs (InputLayer)      [(None,)]            0           []                               \n",
            "                                                                                                  \n",
            " char_vectorizer (TextVectoriza  (None, 290)         0           ['char_inputs[0][0]']            \n",
            " tion)                                                                                            \n",
            "                                                                                                  \n",
            " universal_sentance_encoder (Ke  (None, 512)         256797824   ['token_inputs[0][0]']           \n",
            " rasLayer)                                                                                        \n",
            "                                                                                                  \n",
            " char_embed (Embedding)         (None, 290, 25)      1425        ['char_vectorizer[4][0]']        \n",
            "                                                                                                  \n",
            " dense_15 (Dense)               (None, 128)          65664       ['universal_sentance_encoder[4][0\n",
            "                                                                 ]']                              \n",
            "                                                                                                  \n",
            " bidirectional_3 (Bidirectional  (None, 64)          14848       ['char_embed[4][0]']             \n",
            " )                                                                                                \n",
            "                                                                                                  \n",
            " char_token_hybrid_embedding (C  (None, 192)         0           ['dense_15[0][0]',               \n",
            " oncatenate)                                                      'bidirectional_3[0][0]']        \n",
            "                                                                                                  \n",
            " Line_num_input (InputLayer)    [(None, 15)]         0           []                               \n",
            "                                                                                                  \n",
            " total_lines_input (InputLayer)  [(None, 20)]        0           []                               \n",
            "                                                                                                  \n",
            " dense_18 (Dense)               (None, 256)          49408       ['char_token_hybrid_embedding[0][\n",
            "                                                                 0]']                             \n",
            "                                                                                                  \n",
            " dense_16 (Dense)               (None, 32)           512         ['Line_num_input[0][0]']         \n",
            "                                                                                                  \n",
            " dense_17 (Dense)               (None, 32)           672         ['total_lines_input[0][0]']      \n",
            "                                                                                                  \n",
            " dropout_4 (Dropout)            (None, 256)          0           ['dense_18[0][0]']               \n",
            "                                                                                                  \n",
            " char_token_positional_embeddin  (None, 320)         0           ['dense_16[0][0]',               \n",
            " g (Concatenate)                                                  'dense_17[0][0]',               \n",
            "                                                                  'dropout_4[0][0]']              \n",
            "                                                                                                  \n",
            " output_layer (Dense)           (None, 5)            1605        ['char_token_positional_embedding\n",
            "                                                                 [0][0]']                         \n",
            "                                                                                                  \n",
            "==================================================================================================\n",
            "Total params: 256,931,958\n",
            "Trainable params: 134,134\n",
            "Non-trainable params: 256,797,824\n",
            "__________________________________________________________________________________________________\n"
          ]
        }
      ]
    },
    {
      "cell_type": "code",
      "source": [
        "# plot model 5\n",
        "plot_model(model_5)"
      ],
      "metadata": {
        "id": "Lnxfo7rNRlcg",
        "colab": {
          "base_uri": "https://localhost:8080/",
          "height": 856
        },
        "outputId": "dd2791da-9665-4d36-80f8-96e01574ef58"
      },
      "execution_count": 140,
      "outputs": [
        {
          "output_type": "execute_result",
          "data": {
            "image/png": "[encoded data removed]",
            "text/plain": [
              "<IPython.core.display.Image object>"
            ]
          },
          "metadata": {},
          "execution_count": 140
        }
      ]
    },
    {
      "cell_type": "code",
      "source": [
        "# Check which layers of our model are trainable or not\n",
        "for layer in model_5.layers:\n",
        "  print(layer, layer.trainable)"
      ],
      "metadata": {
        "id": "Pf0VqYyj3ciH",
        "outputId": "5b84ca7c-bc66-40e8-8288-b8b5085ee5e5",
        "colab": {
          "base_uri": "https://localhost:8080/"
        }
      },
      "execution_count": 141,
      "outputs": [
        {
          "output_type": "stream",
          "name": "stdout",
          "text": [
            "<keras.engine.input_layer.InputLayer object at 0x7bfec5b54610> True\n",
            "<keras.engine.input_layer.InputLayer object at 0x7bfec5b386a0> True\n",
            "<keras.layers.preprocessing.text_vectorization.TextVectorization object at 0x7bfeed289c30> True\n",
            "<tensorflow_hub.keras_layer.KerasLayer object at 0x7bff9035d660> False\n",
            "<keras.layers.core.embedding.Embedding object at 0x7bfeed2b6140> True\n",
            "<keras.layers.core.dense.Dense object at 0x7bfecc275240> True\n",
            "<keras.layers.rnn.bidirectional.Bidirectional object at 0x7bfec5b82980> True\n",
            "<keras.layers.merging.concatenate.Concatenate object at 0x7bfed416aa10> True\n",
            "<keras.engine.input_layer.InputLayer object at 0x7bfec5b83ca0> True\n",
            "<keras.engine.input_layer.InputLayer object at 0x7bfecde586d0> True\n",
            "<keras.layers.core.dense.Dense object at 0x7bfecddd97b0> True\n",
            "<keras.layers.core.dense.Dense object at 0x7bfec5b3bd60> True\n",
            "<keras.layers.core.dense.Dense object at 0x7bfecdde3f70> True\n",
            "<keras.layers.regularization.dropout.Dropout object at 0x7bfecddda3b0> True\n",
            "<keras.layers.merging.concatenate.Concatenate object at 0x7bfecddd9fc0> True\n",
            "<keras.layers.core.dense.Dense object at 0x7bfecdddb910> True\n"
          ]
        }
      ]
    },
    {
      "cell_type": "code",
      "source": [
        "# Compile a model 5\n",
        "\n",
        "#label smoothing = if our model gets too confident on a single class (e.g its prediction probability is really high) it my stuck on that class and not consider other classes\n",
        "#....label smoothing assigns the value from high probability to other classes in turn hopefully imporving genearalization\n",
        "\n",
        "model_5.compile(loss = tf.keras.losses.CategoricalCrossentropy(label_smoothing = 0.2),\n",
        "                optimizer = tf.keras.optimizers.Adam(),\n",
        "                metrics = ['accuracy'])"
      ],
      "metadata": {
        "id": "-1_qJEWQVEje"
      },
      "execution_count": 142,
      "outputs": []
    },
    {
      "cell_type": "markdown",
      "source": [
        "### Create tribrid embedding datasets using tf.data\n"
      ],
      "metadata": {
        "id": "vbnJVAV1aHKl"
      }
    },
    {
      "cell_type": "code",
      "source": [
        "#Create training and validation datasets (with all four kinds of input data)\n",
        "train_char_token_pos_data = tf.data.Dataset.from_tensor_slices((train_lines_numbers_one_hot,\n",
        "                                                                train_total_lines_one_hot,\n",
        "                                                                train_sentances,\n",
        "                                                                train_chars))\n",
        "train_char_token_pos_labels = tf.data.Dataset.from_tensor_slices(train_labels_one_hot)\n",
        "\n",
        "train_char_token_pos_dataset = tf.data.Dataset.zip((train_char_token_pos_data, train_char_token_pos_labels))\n",
        "\n",
        "train_char_token_pos_dataset = train_char_token_pos_dataset.batch(32).prefetch(tf.data.AUTOTUNE)\n",
        "\n",
        "\n",
        "# validation dataset\n",
        "\n",
        "\n",
        "val_char_token_pos_data = tf.data.Dataset.from_tensor_slices((val_line_numbers_one_hot,\n",
        "                                                              val_total_lines_one_hot,\n",
        "                                                              val_sentances,\n",
        "                                                              val_chars))\n",
        "\n",
        "val_char_token_pos_labels = tf.data.Dataset.from_tensor_slices(val_labels_one_hot)\n",
        "\n",
        "val_char_token_pos_dataset = tf.data.Dataset.zip((val_char_token_pos_data, val_char_token_pos_labels))\n",
        "\n",
        "val_char_token_pos_dataset = val_char_token_pos_dataset.batch(32).prefetch(tf.data.AUTOTUNE)"
      ],
      "metadata": {
        "id": "n9pIdPtBa72C"
      },
      "execution_count": 143,
      "outputs": []
    },
    {
      "cell_type": "code",
      "source": [
        "train_char_token_pos_dataset"
      ],
      "metadata": {
        "id": "1ofMasgpb_Al",
        "colab": {
          "base_uri": "https://localhost:8080/"
        },
        "outputId": "aa9aceb0-70b4-4bd8-a92e-a75828aec2e4"
      },
      "execution_count": 144,
      "outputs": [
        {
          "output_type": "execute_result",
          "data": {
            "text/plain": [
              "<_PrefetchDataset element_spec=((TensorSpec(shape=(None, 15), dtype=tf.float32, name=None), TensorSpec(shape=(None, 20), dtype=tf.float32, name=None), TensorSpec(shape=(None,), dtype=tf.string, name=None), TensorSpec(shape=(None,), dtype=tf.string, name=None)), TensorSpec(shape=(None, 5), dtype=tf.float64, name=None))>"
            ]
          },
          "metadata": {},
          "execution_count": 144
        }
      ]
    },
    {
      "cell_type": "code",
      "source": [
        "len(train_char_token_pos_dataset)"
      ],
      "metadata": {
        "id": "Mq_y0vBneyol",
        "colab": {
          "base_uri": "https://localhost:8080/"
        },
        "outputId": "2faab7ef-ae19-4cf7-c97a-fce1d092adf4"
      },
      "execution_count": 145,
      "outputs": [
        {
          "output_type": "execute_result",
          "data": {
            "text/plain": [
              "5627"
            ]
          },
          "metadata": {},
          "execution_count": 145
        }
      ]
    },
    {
      "cell_type": "code",
      "source": [
        "### Fit the model\n",
        "\n",
        "model_5_history = model_5.fit(train_char_token_pos_dataset,\n",
        "                              epochs = 6,\n",
        "                              steps_per_epoch = int(0.1 * len(train_char_token_pos_dataset)),\n",
        "                              validation_data = val_char_token_pos_dataset,\n",
        "                              validation_steps = int(0.1 * len(val_char_token_pos_dataset)))"
      ],
      "metadata": {
        "id": "abog-6eie08N",
        "colab": {
          "base_uri": "https://localhost:8080/"
        },
        "outputId": "35bf249d-433f-4dab-9a01-1594b365a607"
      },
      "execution_count": 146,
      "outputs": [
        {
          "output_type": "stream",
          "name": "stdout",
          "text": [
            "Epoch 1/6\n",
            "562/562 [==============================] - 41s 53ms/step - loss: 1.0836 - accuracy: 0.7363 - val_loss: 0.9741 - val_accuracy: 0.8078\n",
            "Epoch 2/6\n",
            "562/562 [==============================] - 26s 47ms/step - loss: 0.9559 - accuracy: 0.8237 - val_loss: 0.9437 - val_accuracy: 0.8381\n",
            "Epoch 3/6\n",
            "562/562 [==============================] - 26s 47ms/step - loss: 0.9394 - accuracy: 0.8322 - val_loss: 0.9307 - val_accuracy: 0.8421\n",
            "Epoch 4/6\n",
            "562/562 [==============================] - 26s 46ms/step - loss: 0.9382 - accuracy: 0.8357 - val_loss: 0.9289 - val_accuracy: 0.8381\n",
            "Epoch 5/6\n",
            "562/562 [==============================] - 25s 44ms/step - loss: 0.9343 - accuracy: 0.8382 - val_loss: 0.9219 - val_accuracy: 0.8434\n",
            "Epoch 6/6\n",
            "562/562 [==============================] - 26s 47ms/step - loss: 0.9326 - accuracy: 0.8371 - val_loss: 0.9127 - val_accuracy: 0.8514\n"
          ]
        }
      ]
    },
    {
      "cell_type": "code",
      "source": [
        "# Evaluate model 5\n",
        "model_5.evaluate(val_char_token_pos_dataset)"
      ],
      "metadata": {
        "id": "pAFlcpTThLn7",
        "colab": {
          "base_uri": "https://localhost:8080/"
        },
        "outputId": "05b04419-2765-402a-e70e-31741e2487b8"
      },
      "execution_count": 126,
      "outputs": [
        {
          "output_type": "stream",
          "name": "stdout",
          "text": [
            "945/945 [==============================] - 21s 22ms/step - loss: 0.9122 - accuracy: 0.8497\n"
          ]
        },
        {
          "output_type": "execute_result",
          "data": {
            "text/plain": [
              "[0.912224292755127, 0.8497285842895508]"
            ]
          },
          "metadata": {},
          "execution_count": 126
        }
      ]
    },
    {
      "cell_type": "code",
      "source": [
        "model_5_pred_probs = model_5.predict(val_char_token_pos_dataset)\n",
        "model_5_pred_probs"
      ],
      "metadata": {
        "id": "DPI2Un2t919Y",
        "outputId": "4a1f38d3-0779-41eb-9322-9e99335eb854",
        "colab": {
          "base_uri": "https://localhost:8080/"
        }
      },
      "execution_count": 147,
      "outputs": [
        {
          "output_type": "stream",
          "name": "stdout",
          "text": [
            "945/945 [==============================] - 24s 23ms/step\n"
          ]
        },
        {
          "output_type": "execute_result",
          "data": {
            "text/plain": [
              "array([[0.61678433, 0.07673086, 0.01191911, 0.26706666, 0.02749904],\n",
              "       [0.565546  , 0.07060042, 0.09116126, 0.2535111 , 0.01918126],\n",
              "       [0.36718282, 0.08865291, 0.07539765, 0.41339484, 0.05537177],\n",
              "       ...,\n",
              "       [0.03250108, 0.07871469, 0.02724984, 0.03398658, 0.8275478 ],\n",
              "       [0.02851597, 0.43235844, 0.0739315 , 0.02590368, 0.43929037],\n",
              "       [0.04246444, 0.85795134, 0.04690682, 0.02008821, 0.03258911]],\n",
              "      dtype=float32)"
            ]
          },
          "metadata": {},
          "execution_count": 147
        }
      ]
    },
    {
      "cell_type": "code",
      "source": [
        "model_5_preds = tf.argmax(model_5_pred_probs, axis = 1)\n",
        "model_5_preds"
      ],
      "metadata": {
        "id": "piiVE_QY_OgP",
        "outputId": "6a7cd464-d781-46e6-da2a-152b5cef6386",
        "colab": {
          "base_uri": "https://localhost:8080/"
        }
      },
      "execution_count": 148,
      "outputs": [
        {
          "output_type": "execute_result",
          "data": {
            "text/plain": [
              "<tf.Tensor: shape=(30212,), dtype=int64, numpy=array([0, 0, 3, ..., 4, 4, 1])>"
            ]
          },
          "metadata": {},
          "execution_count": 148
        }
      ]
    },
    {
      "cell_type": "code",
      "source": [
        "# calculate results\n",
        "model_5_results = calculate_results(val_labels_encoded, model_5_preds)\n",
        "model_5_results"
      ],
      "metadata": {
        "id": "gDcoIR6o_VoW",
        "outputId": "bd99dbfa-f069-4ed9-a98c-98d464e6dcfc",
        "colab": {
          "base_uri": "https://localhost:8080/"
        }
      },
      "execution_count": 149,
      "outputs": [
        {
          "output_type": "execute_result",
          "data": {
            "text/plain": [
              "{'accuracy': 85.42632066728453,\n",
              " 'precision': 0.8545097563937909,\n",
              " 'recall': 0.8542632066728453,\n",
              " 'f1': 0.8520247599521011}"
            ]
          },
          "metadata": {},
          "execution_count": 149
        }
      ]
    },
    {
      "cell_type": "markdown",
      "source": [
        "## Compare all results"
      ],
      "metadata": {
        "id": "1p1ZWXmG_edY"
      }
    },
    {
      "cell_type": "code",
      "source": [
        "all_models_results = pd.DataFrame({\n",
        "    'model_0_baseline':baseline_results,\n",
        "    'model_1_manual_token_embedding':model_1_results,\n",
        "    'model_2_pretrained_token_embedding':model_2_results,\n",
        "    'model_3_char_embedding':model_3_results,\n",
        "    'model_4_hybrid_char_token_embedding':model_4_results,\n",
        "    'model_5_tribrid_embedding':model_5_results\n",
        "})\n",
        "\n",
        "all_models_results = all_models_results.transpose()\n",
        "all_models_results"
      ],
      "metadata": {
        "id": "Spf5pHUCGDIV",
        "outputId": "6d6d26ce-bd11-48c5-a7fe-680dc34a15b9",
        "colab": {
          "base_uri": "https://localhost:8080/",
          "height": 237
        }
      },
      "execution_count": 151,
      "outputs": [
        {
          "output_type": "execute_result",
          "data": {
            "text/plain": [
              "                                      accuracy  precision    recall        f1\n",
              "model_0_baseline                     72.183238   0.718647  0.721832  0.698925\n",
              "model_1_manual_token_embedding       82.136237   0.821823  0.821362  0.819058\n",
              "model_2_pretrained_token_embedding   73.484046   0.731132  0.734840  0.729404\n",
              "model_3_char_embedding               73.414537   0.739358  0.734145  0.731141\n",
              "model_4_hybrid_char_token_embedding  75.364094   0.751513  0.753641  0.747951\n",
              "model_5_tribrid_embedding            85.426321   0.854510  0.854263  0.852025"
            ],
            "text/html": [
              "\n",
              "\n",
              "  <div id=\"df-2802ca8c-6b4d-46a0-99a6-e98304e7b681\">\n",
              "    <div class=\"colab-df-container\">\n",
              "      <div>\n",
              "<style scoped>\n",
              "    .dataframe tbody tr th:only-of-type {\n",
              "        vertical-align: middle;\n",
              "    }\n",
              "\n",
              "    .dataframe tbody tr th {\n",
              "        vertical-align: top;\n",
              "    }\n",
              "\n",
              "    .dataframe thead th {\n",
              "        text-align: right;\n",
              "    }\n",
              "</style>\n",
              "<table border=\"1\" class=\"dataframe\">\n",
              "  <thead>\n",
              "    <tr style=\"text-align: right;\">\n",
              "      <th></th>\n",
              "      <th>accuracy</th>\n",
              "      <th>precision</th>\n",
              "      <th>recall</th>\n",
              "      <th>f1</th>\n",
              "    </tr>\n",
              "  </thead>\n",
              "  <tbody>\n",
              "    <tr>\n",
              "      <th>model_0_baseline</th>\n",
              "      <td>72.183238</td>\n",
              "      <td>0.718647</td>\n",
              "      <td>0.721832</td>\n",
              "      <td>0.698925</td>\n",
              "    </tr>\n",
              "    <tr>\n",
              "      <th>model_1_manual_token_embedding</th>\n",
              "      <td>82.136237</td>\n",
              "      <td>0.821823</td>\n",
              "      <td>0.821362</td>\n",
              "      <td>0.819058</td>\n",
              "    </tr>\n",
              "    <tr>\n",
              "      <th>model_2_pretrained_token_embedding</th>\n",
              "      <td>73.484046</td>\n",
              "      <td>0.731132</td>\n",
              "      <td>0.734840</td>\n",
              "      <td>0.729404</td>\n",
              "    </tr>\n",
              "    <tr>\n",
              "      <th>model_3_char_embedding</th>\n",
              "      <td>73.414537</td>\n",
              "      <td>0.739358</td>\n",
              "      <td>0.734145</td>\n",
              "      <td>0.731141</td>\n",
              "    </tr>\n",
              "    <tr>\n",
              "      <th>model_4_hybrid_char_token_embedding</th>\n",
              "      <td>75.364094</td>\n",
              "      <td>0.751513</td>\n",
              "      <td>0.753641</td>\n",
              "      <td>0.747951</td>\n",
              "    </tr>\n",
              "    <tr>\n",
              "      <th>model_5_tribrid_embedding</th>\n",
              "      <td>85.426321</td>\n",
              "      <td>0.854510</td>\n",
              "      <td>0.854263</td>\n",
              "      <td>0.852025</td>\n",
              "    </tr>\n",
              "  </tbody>\n",
              "</table>\n",
              "</div>\n",
              "      <button class=\"colab-df-convert\" onclick=\"convertToInteractive('df-2802ca8c-6b4d-46a0-99a6-e98304e7b681')\"\n",
              "              title=\"Convert this dataframe to an interactive table.\"\n",
              "              style=\"display:none;\">\n",
              "\n",
              "  <svg xmlns=\"http://www.w3.org/2000/svg\" height=\"24px\"viewBox=\"0 0 24 24\"\n",
              "       width=\"24px\">\n",
              "    <path d=\"M0 0h24v24H0V0z\" fill=\"none\"/>\n",
              "    <path d=\"M18.56 5.44l.94 2.06.94-2.06 2.06-.94-2.06-.94-.94-2.06-.94 2.06-2.06.94zm-11 1L8.5 8.5l.94-2.06 2.06-.94-2.06-.94L8.5 2.5l-.94 2.06-2.06.94zm10 10l.94 2.06.94-2.06 2.06-.94-2.06-.94-.94-2.06-.94 2.06-2.06.94z\"/><path d=\"M17.41 7.96l-1.37-1.37c-.4-.4-.92-.59-1.43-.59-.52 0-1.04.2-1.43.59L10.3 9.45l-7.72 7.72c-.78.78-.78 2.05 0 2.83L4 21.41c.39.39.9.59 1.41.59.51 0 1.02-.2 1.41-.59l7.78-7.78 2.81-2.81c.8-.78.8-2.07 0-2.86zM5.41 20L4 18.59l7.72-7.72 1.47 1.35L5.41 20z\"/>\n",
              "  </svg>\n",
              "      </button>\n",
              "\n",
              "\n",
              "\n",
              "    <div id=\"df-c8b93d60-cd1b-4d58-a3a9-cb1bc896be97\">\n",
              "      <button class=\"colab-df-quickchart\" onclick=\"quickchart('df-c8b93d60-cd1b-4d58-a3a9-cb1bc896be97')\"\n",
              "              title=\"Suggest charts.\"\n",
              "              style=\"display:none;\">\n",
              "\n",
              "<svg xmlns=\"http://www.w3.org/2000/svg\" height=\"24px\"viewBox=\"0 0 24 24\"\n",
              "     width=\"24px\">\n",
              "    <g>\n",
              "        <path d=\"M19 3H5c-1.1 0-2 .9-2 2v14c0 1.1.9 2 2 2h14c1.1 0 2-.9 2-2V5c0-1.1-.9-2-2-2zM9 17H7v-7h2v7zm4 0h-2V7h2v10zm4 0h-2v-4h2v4z\"/>\n",
              "    </g>\n",
              "</svg>\n",
              "      </button>\n",
              "    </div>\n",
              "\n",
              "<style>\n",
              "  .colab-df-quickchart {\n",
              "    background-color: #E8F0FE;\n",
              "    border: none;\n",
              "    border-radius: 50%;\n",
              "    cursor: pointer;\n",
              "    display: none;\n",
              "    fill: #1967D2;\n",
              "    height: 32px;\n",
              "    padding: 0 0 0 0;\n",
              "    width: 32px;\n",
              "  }\n",
              "\n",
              "  .colab-df-quickchart:hover {\n",
              "    background-color: #E2EBFA;\n",
              "    box-shadow: 0px 1px 2px rgba(60, 64, 67, 0.3), 0px 1px 3px 1px rgba(60, 64, 67, 0.15);\n",
              "    fill: #174EA6;\n",
              "  }\n",
              "\n",
              "  [theme=dark] .colab-df-quickchart {\n",
              "    background-color: #3B4455;\n",
              "    fill: #D2E3FC;\n",
              "  }\n",
              "\n",
              "  [theme=dark] .colab-df-quickchart:hover {\n",
              "    background-color: #434B5C;\n",
              "    box-shadow: 0px 1px 3px 1px rgba(0, 0, 0, 0.15);\n",
              "    filter: drop-shadow(0px 1px 2px rgba(0, 0, 0, 0.3));\n",
              "    fill: #FFFFFF;\n",
              "  }\n",
              "</style>\n",
              "\n",
              "    <script>\n",
              "      async function quickchart(key) {\n",
              "        const containerElement = document.querySelector('#' + key);\n",
              "        const charts = await google.colab.kernel.invokeFunction(\n",
              "            'suggestCharts', [key], {});\n",
              "      }\n",
              "    </script>\n",
              "\n",
              "      <script>\n",
              "\n",
              "function displayQuickchartButton(domScope) {\n",
              "  let quickchartButtonEl =\n",
              "    domScope.querySelector('#df-c8b93d60-cd1b-4d58-a3a9-cb1bc896be97 button.colab-df-quickchart');\n",
              "  quickchartButtonEl.style.display =\n",
              "    google.colab.kernel.accessAllowed ? 'block' : 'none';\n",
              "}\n",
              "\n",
              "        displayQuickchartButton(document);\n",
              "      </script>\n",
              "      <style>\n",
              "    .colab-df-container {\n",
              "      display:flex;\n",
              "      flex-wrap:wrap;\n",
              "      gap: 12px;\n",
              "    }\n",
              "\n",
              "    .colab-df-convert {\n",
              "      background-color: #E8F0FE;\n",
              "      border: none;\n",
              "      border-radius: 50%;\n",
              "      cursor: pointer;\n",
              "      display: none;\n",
              "      fill: #1967D2;\n",
              "      height: 32px;\n",
              "      padding: 0 0 0 0;\n",
              "      width: 32px;\n",
              "    }\n",
              "\n",
              "    .colab-df-convert:hover {\n",
              "      background-color: #E2EBFA;\n",
              "      box-shadow: 0px 1px 2px rgba(60, 64, 67, 0.3), 0px 1px 3px 1px rgba(60, 64, 67, 0.15);\n",
              "      fill: #174EA6;\n",
              "    }\n",
              "\n",
              "    [theme=dark] .colab-df-convert {\n",
              "      background-color: #3B4455;\n",
              "      fill: #D2E3FC;\n",
              "    }\n",
              "\n",
              "    [theme=dark] .colab-df-convert:hover {\n",
              "      background-color: #434B5C;\n",
              "      box-shadow: 0px 1px 3px 1px rgba(0, 0, 0, 0.15);\n",
              "      filter: drop-shadow(0px 1px 2px rgba(0, 0, 0, 0.3));\n",
              "      fill: #FFFFFF;\n",
              "    }\n",
              "  </style>\n",
              "\n",
              "      <script>\n",
              "        const buttonEl =\n",
              "          document.querySelector('#df-2802ca8c-6b4d-46a0-99a6-e98304e7b681 button.colab-df-convert');\n",
              "        buttonEl.style.display =\n",
              "          google.colab.kernel.accessAllowed ? 'block' : 'none';\n",
              "\n",
              "        async function convertToInteractive(key) {\n",
              "          const element = document.querySelector('#df-2802ca8c-6b4d-46a0-99a6-e98304e7b681');\n",
              "          const dataTable =\n",
              "            await google.colab.kernel.invokeFunction('convertToInteractive',\n",
              "                                                     [key], {});\n",
              "          if (!dataTable) return;\n",
              "\n",
              "          const docLinkHtml = 'Like what you see? Visit the ' +\n",
              "            '<a target=\"_blank\" href=https://colab.research.google.com/notebooks/data_table.ipynb>data table notebook</a>'\n",
              "            + ' to learn more about interactive tables.';\n",
              "          element.innerHTML = '';\n",
              "          dataTable['output_type'] = 'display_data';\n",
              "          await google.colab.output.renderOutput(dataTable, element);\n",
              "          const docLink = document.createElement('div');\n",
              "          docLink.innerHTML = docLinkHtml;\n",
              "          element.appendChild(docLink);\n",
              "        }\n",
              "      </script>\n",
              "    </div>\n",
              "  </div>\n"
            ]
          },
          "metadata": {},
          "execution_count": 151
        }
      ]
    },
    {
      "cell_type": "code",
      "source": [],
      "metadata": {
        "id": "qHs-FZ0FGliZ"
      },
      "execution_count": null,
      "outputs": []
    }
  ],
  "metadata": {
    "accelerator": "GPU",
    "colab": {
      "provenance": [],
      "include_colab_link": true
    },
    "kernelspec": {
      "display_name": "Python 3",
      "name": "python3"
    },
    "language_info": {
      "name": "python"
    }
  },
  "nbformat": 4,
  "nbformat_minor": 0
}